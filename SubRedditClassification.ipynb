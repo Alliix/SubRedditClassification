{
 "cells": [
  {
   "cell_type": "markdown",
   "id": "0ba2efbb",
   "metadata": {},
   "source": [
    "###  1. Imports"
   ]
  },
  {
   "cell_type": "code",
   "execution_count": 3,
   "id": "6ab7b568",
   "metadata": {},
   "outputs": [
    {
     "name": "stderr",
     "output_type": "stream",
     "text": [
      "[nltk_data] Downloading package stopwords to\n",
      "[nltk_data]     C:\\Users\\aligo\\AppData\\Roaming\\nltk_data...\n",
      "[nltk_data]   Package stopwords is already up-to-date!\n",
      "[nltk_data] Downloading package punkt to\n",
      "[nltk_data]     C:\\Users\\aligo\\AppData\\Roaming\\nltk_data...\n",
      "[nltk_data]   Package punkt is already up-to-date!\n"
     ]
    }
   ],
   "source": [
    "import os\n",
    "import sys\n",
    "import nltk\n",
    "import sklearn\n",
    "import pandas as pd\n",
    "import numpy as np\n",
    "import praw\n",
    "from dotenv import load_dotenv\n",
    "\n",
    "load_dotenv()\n",
    "\n",
    "from nltk.corpus import stopwords\n",
    "nltk.download('stopwords')\n",
    "nltk.download('punkt')\n",
    "ps = nltk.PorterStemmer()\n",
    "from nltk.tokenize import word_tokenize\n",
    "\n",
    "import re\n",
    "\n",
    "stop_words = set(stopwords.words('english'))"
   ]
  },
  {
   "cell_type": "markdown",
   "id": "7852d54d",
   "metadata": {},
   "source": [
    "### 2. Define functions to get subreddit posts data from Reddit and write it to files"
   ]
  },
  {
   "cell_type": "code",
   "execution_count": 2,
   "id": "d9c75d2d",
   "metadata": {},
   "outputs": [],
   "source": [
    "user_agent = \"Scraper 1.0 by /u/Alliix\"\n",
    "reddit = praw.Reddit(\n",
    "  client_id=os.environ['CLIENT_ID'],\n",
    "  client_secret=os.environ['CLIENT_SECRET'],\n",
    "  user_agent=user_agent\n",
    ")"
   ]
  },
  {
   "cell_type": "code",
   "execution_count": 39,
   "id": "9a648215",
   "metadata": {},
   "outputs": [],
   "source": [
    "def cleanPostsData(postsFromCsv):\n",
    "#     clean posts data\n",
    "    postsProcessed = []\n",
    "\n",
    "#     RegEx\n",
    "    zeroSpaceWidth = re.compile(r'&#x200B')\n",
    "    urls = re.compile(r'^http\\://[a-zA-Z0-9\\-\\.]+\\.[a-zA-Z]{2,3}(/\\S*)?$', re.IGNORECASE)\n",
    "    numbers = re.compile(r'\\d+(\\.\\d+)?')\n",
    "    punctuation = re.compile(r'[^\\w\\d\\s]')\n",
    "    whitespaces = re.compile(r'\\s+')\n",
    "    leadTrailWhitespace = re.compile(r'^\\s+|\\s+?$')\n",
    "\n",
    "    for d in postsFromCsv.Post:\n",
    "        if(type(d)==str):\n",
    "            x = d\n",
    "            # Replace zero width space with ' '\n",
    "            x = zeroSpaceWidth.sub(' ',x)\n",
    "            # Replace URLs with 'url'\n",
    "            x = urls.sub('url',x)\n",
    "            # Replace numbers with 'nmbr'\n",
    "            x = numbers.sub('nmbr',x)\n",
    "            # Remove punctuation\n",
    "            x = punctuation.sub(' ',x)\n",
    "            # Replace whitespace between terms with ' '\n",
    "            x = whitespaces.sub(' ',x)\n",
    "            # Remove leading and trailing whitespace\n",
    "            x = leadTrailWhitespace.sub(' ',x)\n",
    "\n",
    "            # remove stop words from text messages\n",
    "            text_tokens = word_tokenize(x)\n",
    "            tokens_without_sw = [word for word in text_tokens if not word in stop_words]\n",
    "\n",
    "            # Remove word stems using a Porter stemmer\n",
    "            tokens_without_ws = [ps.stem(word) for word in tokens_without_sw]\n",
    "\n",
    "            x = (\" \").join(tokens_without_ws)\n",
    "\n",
    "            postsProcessed.append(x)\n",
    "        else: \n",
    "            postsProcessed.append(d)\n",
    "            \n",
    "    return postsProcessed\n"
   ]
  },
  {
   "cell_type": "code",
   "execution_count": 40,
   "id": "9a01f7bf",
   "metadata": {},
   "outputs": [],
   "source": [
    "def getAndCleanPostsData(subreddit, postOutputFile, processedPostOutputFile):\n",
    "#     get\n",
    "    posts = set()\n",
    "    for submission in reddit.subreddit(subreddit).new(limit=None):\n",
    "        posts.add(submission)\n",
    "    postsLength = len(posts)\n",
    "    \n",
    "#     write posts to file\n",
    "    data = []\n",
    "    for post in posts:\n",
    "        data.append({'Author': post.author, 'Subreddit': post.subreddit, 'Date': post.created_utc, 'Title': post.title, 'Post': post.selftext})    \n",
    "    postsData = pd.DataFrame(data, columns=['Author', 'Subreddit', 'Date', 'Title', 'Post'])\n",
    "    postsData.to_csv(postOutputFile, index=False)\n",
    "    \n",
    "    postsFromCsv = pd.read_csv(postOutputFile)\n",
    "    postsProcessed = cleanPostsData(postsFromCsv)\n",
    "    \n",
    "#     write processed posts data to file\n",
    "    processedData = []\n",
    "    for i in range(0, postsLength):\n",
    "        processedData.append({'Author': postsFromCsv.Author[i], 'Subreddit': postsFromCsv.Subreddit[i], 'Date': postsFromCsv.Date[i], 'Title': postsFromCsv.Title[i], 'Post': postsProcessed[i]})\n",
    "\n",
    "    postsData = pd.DataFrame(processedData, columns=['Author', 'Subreddit', 'Date', 'Title', 'Post'])\n",
    "    postsData.to_csv(processedPostOutputFile, index=False)\n",
    "    \n",
    "    return postsLength"
   ]
  },
  {
   "cell_type": "markdown",
   "id": "fddc269c",
   "metadata": {},
   "source": [
    "### 3. Run the functions to get data from subreddits"
   ]
  },
  {
   "cell_type": "code",
   "execution_count": 41,
   "id": "5132adf8",
   "metadata": {},
   "outputs": [
    {
     "name": "stdout",
     "output_type": "stream",
     "text": [
      "1000\n"
     ]
    }
   ],
   "source": [
    "# r/depression\n",
    "depressedPostsLength = getAndCleanPostsData('depression', 'depressed_posts.csv', 'depressed_posts_processed.csv')\n",
    "print(depressedPostsLength)"
   ]
  },
  {
   "cell_type": "code",
   "execution_count": 42,
   "id": "099245ee",
   "metadata": {},
   "outputs": [
    {
     "name": "stdout",
     "output_type": "stream",
     "text": [
      "989\n"
     ]
    }
   ],
   "source": [
    "# r/unpopularopinion\n",
    "unpopularopinionPostsLength = getAndCleanPostsData('unpopularopinion', 'unpopularopinion_posts.csv', 'unpopularopinion_posts_processed.csv')\n",
    "print(unpopularopinionPostsLength)"
   ]
  },
  {
   "cell_type": "code",
   "execution_count": 43,
   "id": "3298b14a",
   "metadata": {},
   "outputs": [
    {
     "name": "stdout",
     "output_type": "stream",
     "text": [
      "979\n"
     ]
    }
   ],
   "source": [
    "# r/lonely\n",
    "lonelyPostsLength = getAndCleanPostsData('lonely', 'lonely_posts.csv', 'lonely_posts_processed.csv')\n",
    "print(lonelyPostsLength)"
   ]
  },
  {
   "cell_type": "code",
   "execution_count": 44,
   "id": "1e1939bb",
   "metadata": {},
   "outputs": [
    {
     "name": "stdout",
     "output_type": "stream",
     "text": [
      "979\n"
     ]
    }
   ],
   "source": [
    "# r/MachineLearning\n",
    "machinelearningPostsLength = getAndCleanPostsData('machinelearning', 'machinelearning_posts.csv', 'machinelearning_posts_processed.csv')\n",
    "print(machinelearningPostsLength)"
   ]
  },
  {
   "cell_type": "markdown",
   "id": "df6d0166",
   "metadata": {},
   "source": [
    "### 4. Generating Features function\n",
    "Features will be the most common words in posts."
   ]
  },
  {
   "cell_type": "code",
   "execution_count": 45,
   "id": "83c5cdc7",
   "metadata": {},
   "outputs": [],
   "source": [
    "def getWordFrequency(processedPostOutputFile):\n",
    "    posts = pd.read_csv(processedPostOutputFile)\n",
    "\n",
    "    allPostsConcat = ''\n",
    "    for post in posts.Post:\n",
    "        if(type(post)==str):\n",
    "            allPostsConcat+=post\n",
    "\n",
    "    # create bag-of-words\n",
    "    all_words = []\n",
    "\n",
    "    words = word_tokenize(allPostsConcat)\n",
    "    for word in words:\n",
    "        all_words.append(word)\n",
    "\n",
    "    all_words = nltk.FreqDist(all_words)\n",
    "    \n",
    "    return all_words"
   ]
  },
  {
   "cell_type": "markdown",
   "id": "2519ac7b",
   "metadata": {},
   "source": [
    "### 5. Generate Word Frequency for Subreddits"
   ]
  },
  {
   "cell_type": "code",
   "execution_count": 46,
   "id": "3dbd914f",
   "metadata": {},
   "outputs": [
    {
     "name": "stdout",
     "output_type": "stream",
     "text": [
      "Number of words: 6235\n",
      "Most common words: [('i', 11562), ('feel', 1547), ('like', 1268), ('nmbr', 973), ('want', 937), ('get', 886), ('know', 842), ('life', 734), ('depress', 683), ('even', 668), ('time', 634), ('go', 588), ('think', 525), ('year', 522), ('day', 515)]\n"
     ]
    }
   ],
   "source": [
    "# r/depression\n",
    "depressionFreqWords = getWordFrequency('depressed_posts_processed.csv')\n",
    "\n",
    "# print the total number of words and the 15 most common words\n",
    "print('Number of words: {}'.format(len(depressionFreqWords)))\n",
    "print('Most common words: {}'.format(depressionFreqWords.most_common(15)))"
   ]
  },
  {
   "cell_type": "code",
   "execution_count": 47,
   "id": "9bc340fd",
   "metadata": {},
   "outputs": [
    {
     "name": "stdout",
     "output_type": "stream",
     "text": [
      "Number of words: 8396\n",
      "Most common words: [('i', 2799), ('peopl', 939), ('like', 915), ('nmbr', 726), ('get', 603), ('it', 454), ('make', 443), ('think', 421), ('one', 394), ('want', 358), ('thing', 358), ('say', 345), ('time', 343), ('even', 337), ('the', 323)]\n"
     ]
    }
   ],
   "source": [
    "# r/unpopularopinion\n",
    "unpopularopinionFreqWords = getWordFrequency('unpopularopinion_posts_processed.csv')\n",
    "\n",
    "# print the total number of words and the 15 most common words\n",
    "print('Number of words: {}'.format(len(unpopularopinionFreqWords)))\n",
    "print('Most common words: {}'.format(unpopularopinionFreqWords.most_common(15)))"
   ]
  },
  {
   "cell_type": "code",
   "execution_count": 48,
   "id": "738577c6",
   "metadata": {},
   "outputs": [
    {
     "name": "stdout",
     "output_type": "stream",
     "text": [
      "Number of words: 5676\n",
      "Most common words: [('i', 8824), ('feel', 1158), ('like', 1097), ('friend', 1015), ('nmbr', 848), ('want', 806), ('peopl', 758), ('get', 653), ('know', 606), ('talk', 600), ('one', 599), ('time', 585), ('go', 569), ('life', 552), ('even', 532)]\n"
     ]
    }
   ],
   "source": [
    "# r/lonely\n",
    "lonelyFreqWords = getWordFrequency('lonely_posts_processed.csv')\n",
    "\n",
    "# print the total number of words and the 15 most common words\n",
    "print('Number of words: {}'.format(len(lonelyFreqWords)))\n",
    "print('Most common words: {}'.format(lonelyFreqWords.most_common(15)))"
   ]
  },
  {
   "cell_type": "code",
   "execution_count": 49,
   "id": "3c83eaa2",
   "metadata": {},
   "outputs": [
    {
     "name": "stdout",
     "output_type": "stream",
     "text": [
      "Number of words: 9351\n",
      "Most common words: [('nmbr', 4430), ('http', 2531), ('i', 2283), ('com', 1581), ('model', 980), ('use', 916), ('learn', 740), ('data', 602), ('the', 525), ('train', 521), ('reddit', 509), ('week', 485), ('paper', 466), ('www', 446), ('github', 434)]\n"
     ]
    }
   ],
   "source": [
    "# r/machinelearning\n",
    "machinelearningFreqWords = getWordFrequency('machinelearning_posts_processed.csv')\n",
    "\n",
    "# print the total number of words and the 15 most common words\n",
    "print('Number of words: {}'.format(len(machinelearningFreqWords)))\n",
    "print('Most common words: {}'.format(machinelearningFreqWords.most_common(15)))"
   ]
  },
  {
   "cell_type": "markdown",
   "id": "da1e82f9",
   "metadata": {},
   "source": [
    "### 6. Generate features for all posts\n",
    "We will tokenize each word and will use the 2000 most common words as features."
   ]
  },
  {
   "cell_type": "code",
   "execution_count": 50,
   "id": "5b608454",
   "metadata": {},
   "outputs": [],
   "source": [
    "# Save all posts to one file\n",
    "\n",
    "depressedData = pd.read_csv('depressed_posts_processed.csv')\n",
    "unpopularopinionData = pd.read_csv('unpopularopinion_posts_processed.csv')\n",
    "lonelyData = pd.read_csv('lonely_posts_processed.csv')\n",
    "machinelearningData = pd.read_csv('machinelearning_posts_processed.csv')\n",
    "\n",
    "allPosts = depressedData.append(unpopularopinionData).append(lonelyData).append(machinelearningData)\n",
    "\n",
    "allPosts.to_csv('all_posts_processed.csv', index=False)"
   ]
  },
  {
   "cell_type": "code",
   "execution_count": 51,
   "id": "372b71f3",
   "metadata": {},
   "outputs": [
    {
     "name": "stdout",
     "output_type": "stream",
     "text": [
      "depression          1000\n",
      "unpopularopinion     989\n",
      "lonely               979\n",
      "MachineLearning      979\n",
      "Name: Subreddit, dtype: int64\n"
     ]
    }
   ],
   "source": [
    "# check subreddit distribution\n",
    "\n",
    "subreddits = allPosts.Subreddit\n",
    "print(subreddits.value_counts())"
   ]
  },
  {
   "cell_type": "code",
   "execution_count": 53,
   "id": "bb79be94",
   "metadata": {},
   "outputs": [
    {
     "name": "stdout",
     "output_type": "stream",
     "text": [
      "Number of words: 18226\n",
      "Most common words: [('i', 25466), ('nmbr', 6977), ('like', 3684), ('feel', 3050), ('http', 2595), ('peopl', 2340), ('get', 2325), ('want', 2295), ('know', 1932), ('time', 1850), ('one', 1749), ('make', 1722), ('even', 1658), ('com', 1625), ('friend', 1585), ('go', 1571), ('use', 1520), ('would', 1506), ('life', 1489), ('think', 1488), ('it', 1452), ('thing', 1354), ('realli', 1320), ('tri', 1251), ('the', 1251), ('year', 1242), ('work', 1165), ('day', 1161), ('talk', 1084), ('much', 1004), ('model', 994), ('never', 973), ('someon', 963), ('say', 960), ('way', 916), ('see', 914), ('good', 898), ('need', 888), ('learn', 884), ('depress', 851), ('help', 823), ('also', 823), ('person', 809), ('someth', 806), ('week', 795), ('love', 792), ('start', 786), ('look', 786), ('but', 785), ('live', 770), ('could', 763), ('alway', 746), ('take', 737), ('still', 735), ('better', 696), ('anyon', 690), ('got', 657), ('find', 657), ('and', 652), ('my', 648), ('thought', 638), ('back', 628), ('data', 626), ('anyth', 620), ('mani', 619), ('reddit', 611), ('point', 608), ('bad', 591), ('lot', 590), ('end', 583), ('train', 567), ('care', 558), ('if', 553), ('fuck', 550), ('sinc', 549), ('everi', 548), ('well', 545), ('come', 543), ('thi', 540), ('everyth', 536), ('everyon', 535), ('tell', 535), ('first', 530), ('new', 530), ('alon', 528), ('noth', 518), ('post', 517), ('school', 516), ('we', 515), ('long', 514), ('problem', 513), ('hate', 495), ('happi', 493), ('paper', 486), ('so', 485), ('keep', 481), ('right', 481), ('www', 476), ('seem', 474), ('around', 470)]\n"
     ]
    }
   ],
   "source": [
    "all_words_combined = getWordFrequency('all_posts_processed.csv')\n",
    "\n",
    "# print the total number of words and the 100 most common words\n",
    "print('Number of words: {}'.format(len(all_words_combined)))\n",
    "print('Most common words: {}'.format(all_words_combined.most_common(100)))"
   ]
  },
  {
   "cell_type": "code",
   "execution_count": 59,
   "id": "e016fa40",
   "metadata": {},
   "outputs": [],
   "source": [
    "# we will use the 2000 most common words as features\n",
    "\n",
    "word_features = list(all_words_combined.keys())[:2000]"
   ]
  },
  {
   "cell_type": "markdown",
   "id": "6e5eed2f",
   "metadata": {},
   "source": [
    "### 7. FindFeatures fuction\n",
    "function will determine which of the 2000 word features are contained in the post"
   ]
  },
  {
   "cell_type": "code",
   "execution_count": 62,
   "id": "619a2b03",
   "metadata": {},
   "outputs": [],
   "source": [
    "def find_features(post):\n",
    "    words = word_tokenize(post)\n",
    "    features = {}\n",
    "    for word in word_features:\n",
    "        features[word] = (word in words)\n",
    "    return features"
   ]
  },
  {
   "cell_type": "code",
   "execution_count": 63,
   "id": "2b11b642",
   "metadata": {},
   "outputs": [
    {
     "name": "stdout",
     "output_type": "stream",
     "text": [
      "like\n",
      "go\n",
      "back\n",
      "keep\n",
      "life\n",
      "felt\n",
      "top\n",
      "world\n",
      "friday\n",
      "night\n",
      "everyth\n",
      "now\n",
      "i\n",
      "feel\n",
      "low\n",
      "put\n",
      "act\n",
      "whenev\n",
      "peopl\n",
      "let\n",
      "get\n",
      "walk\n",
      "care\n",
      "ask\n",
      "would\n",
      "come\n",
      "home\n",
      "drink\n",
      "stop\n",
      "make\n",
      "parti\n",
      "hour\n",
      "small\n",
      "but\n",
      "alon\n",
      "thought\n",
      "start\n"
     ]
    }
   ],
   "source": [
    "# example\n",
    "posts = pd.read_csv('all_posts_processed.csv')\n",
    "\n",
    "features = find_features(posts.Post[1])\n",
    "for key, value in features.items():\n",
    "    if value == True:\n",
    "        print(key)"
   ]
  },
  {
   "cell_type": "markdown",
   "id": "13afe9df",
   "metadata": {},
   "source": [
    "### 6. Save training, testing data"
   ]
  },
  {
   "cell_type": "code",
   "execution_count": 67,
   "id": "50f1fa60",
   "metadata": {},
   "outputs": [],
   "source": [
    "Y = posts.Subreddit\n",
    "postsStr = ''\n",
    "for post in posts.Post:\n",
    "    if(type(post)==str):\n",
    "        postsStr+=post\n",
    "    \n",
    "# Now find features for all posts\n",
    "posts_all = list(zip(postsStr, Y))\n",
    "\n",
    "# define a seed for reproducibility\n",
    "seed = 1\n",
    "np.random.seed = seed\n",
    "np.random.shuffle(posts_all)\n",
    "\n",
    "# call find_features function for each post\n",
    "featuresets = [(find_features(text), label) for (text, label) in posts_all]"
   ]
  },
  {
   "cell_type": "code",
   "execution_count": 68,
   "id": "36b39df0",
   "metadata": {},
   "outputs": [
    {
     "name": "stdout",
     "output_type": "stream",
     "text": [
      "3947\n",
      "2960\n",
      "987\n"
     ]
    }
   ],
   "source": [
    "# we can split the featuresets into training and testing datasets using sklearn\n",
    "from sklearn import model_selection\n",
    "\n",
    "# split the data into training and testing datasets\n",
    "training, testing = model_selection.train_test_split(featuresets, test_size = 0.25, random_state=seed)\n",
    "\n",
    "print(len(posts))\n",
    "print(len(training))\n",
    "print(len(testing))"
   ]
  },
  {
   "cell_type": "markdown",
   "id": "4d059661",
   "metadata": {},
   "source": [
    "### 4. Scikit-Learn Classifiers with NLTK\n",
    "Now that we have our dataset, we can start building algorithms! Let's start with a simple linear support vector classifier, then expand to other algorithms. We'll need to import each algorithm we plan on using from sklearn. We also need to import some performance metrics, such as accuracy_score and classification_report."
   ]
  },
  {
   "cell_type": "code",
   "execution_count": 69,
   "id": "bbac4b50",
   "metadata": {},
   "outputs": [
    {
     "name": "stdout",
     "output_type": "stream",
     "text": [
      "SVC Accuracy: 22.99898682877406\n"
     ]
    }
   ],
   "source": [
    "# We can use sklearn algorithms in NLTK\n",
    "from nltk.classify.scikitlearn import SklearnClassifier\n",
    "from sklearn.svm import SVC\n",
    "\n",
    "model = SklearnClassifier(SVC(kernel = 'linear'))\n",
    "\n",
    "# train the model on the training data\n",
    "model.train(training)\n",
    "\n",
    "# and test on the testing dataset!\n",
    "accuracy = nltk.classify.accuracy(model, testing)*100\n",
    "print(\"SVC Accuracy: {}\".format(accuracy))"
   ]
  },
  {
   "cell_type": "code",
   "execution_count": 70,
   "id": "6f266215",
   "metadata": {},
   "outputs": [
    {
     "name": "stdout",
     "output_type": "stream",
     "text": [
      "K Nearest Neighbors Accuracy: 24.113475177304963\n",
      "Decision Tree Accuracy: 23.10030395136778\n",
      "Random Forest Accuracy: 23.10030395136778\n",
      "Logistic Regression Accuracy: 22.99898682877406\n",
      "SGD Classifier Accuracy: 22.391084093211752\n",
      "Naive Bayes Accuracy: 22.99898682877406\n",
      "SVM Linear Accuracy: 22.99898682877406\n"
     ]
    }
   ],
   "source": [
    "from sklearn.neighbors import KNeighborsClassifier\n",
    "from sklearn.tree import DecisionTreeClassifier\n",
    "from sklearn.ensemble import RandomForestClassifier\n",
    "from sklearn.linear_model import LogisticRegression, SGDClassifier\n",
    "from sklearn.naive_bayes import MultinomialNB\n",
    "from sklearn.svm import SVC\n",
    "from sklearn.metrics import classification_report, accuracy_score, confusion_matrix\n",
    "\n",
    "# Define models to train\n",
    "names = [\"K Nearest Neighbors\", \"Decision Tree\", \"Random Forest\", \"Logistic Regression\", \"SGD Classifier\",\n",
    "         \"Naive Bayes\", \"SVM Linear\"]\n",
    "\n",
    "classifiers = [\n",
    "    KNeighborsClassifier(),\n",
    "    DecisionTreeClassifier(),\n",
    "    RandomForestClassifier(),\n",
    "    LogisticRegression(),\n",
    "    SGDClassifier(max_iter = 100),\n",
    "    MultinomialNB(),\n",
    "    SVC(kernel = 'linear')\n",
    "]\n",
    "\n",
    "models = zip(names, classifiers)\n",
    "\n",
    "for name, model in models:\n",
    "    nltk_model = SklearnClassifier(model)\n",
    "    nltk_model.train(training)\n",
    "    accuracy = nltk.classify.accuracy(nltk_model, testing)*100\n",
    "    print(\"{} Accuracy: {}\".format(name, accuracy))"
   ]
  },
  {
   "cell_type": "code",
   "execution_count": 71,
   "id": "dccb80a9",
   "metadata": {},
   "outputs": [
    {
     "name": "stdout",
     "output_type": "stream",
     "text": [
      "Voting Classifier: Accuracy: 22.99898682877406\n"
     ]
    }
   ],
   "source": [
    "# Ensemble methods - Voting classifier\n",
    "from sklearn.ensemble import VotingClassifier\n",
    "\n",
    "names = [\"K Nearest Neighbors\", \"Decision Tree\", \"Random Forest\", \"Logistic Regression\", \"SGD Classifier\",\n",
    "         \"Naive Bayes\", \"SVM Linear\"]\n",
    "\n",
    "classifiers = [\n",
    "    KNeighborsClassifier(),\n",
    "    DecisionTreeClassifier(),\n",
    "    RandomForestClassifier(),\n",
    "    LogisticRegression(),\n",
    "    SGDClassifier(max_iter = 100),\n",
    "    MultinomialNB(),\n",
    "    SVC(kernel = 'linear')\n",
    "]\n",
    "\n",
    "models = list(zip(names, classifiers))\n",
    "\n",
    "nltk_ensemble = SklearnClassifier(VotingClassifier(estimators = models, voting = 'hard', n_jobs = -1))\n",
    "nltk_ensemble.train(training)\n",
    "accuracy = nltk.classify.accuracy(nltk_model, testing)*100\n",
    "print(\"Voting Classifier: Accuracy: {}\".format(accuracy))"
   ]
  },
  {
   "cell_type": "code",
   "execution_count": 72,
   "id": "ea70d764",
   "metadata": {},
   "outputs": [],
   "source": [
    "# make class label prediction for testing set\n",
    "txt_features, labels = zip(*testing)\n",
    "\n",
    "prediction = nltk_ensemble.classify_many(txt_features)"
   ]
  },
  {
   "cell_type": "code",
   "execution_count": 74,
   "id": "08977b33",
   "metadata": {},
   "outputs": [
    {
     "name": "stdout",
     "output_type": "stream",
     "text": [
      "                  precision    recall  f1-score   support\n",
      "\n",
      " MachineLearning       0.22      0.07      0.11       248\n",
      "      depression       0.31      0.10      0.15       281\n",
      "          lonely       0.12      0.02      0.03       231\n",
      "unpopularopinion       0.23      0.78      0.35       227\n",
      "\n",
      "        accuracy                           0.23       987\n",
      "       macro avg       0.22      0.24      0.16       987\n",
      "    weighted avg       0.22      0.23      0.16       987\n",
      "\n"
     ]
    },
    {
     "data": {
      "text/html": [
       "<div>\n",
       "<style scoped>\n",
       "    .dataframe tbody tr th:only-of-type {\n",
       "        vertical-align: middle;\n",
       "    }\n",
       "\n",
       "    .dataframe tbody tr th {\n",
       "        vertical-align: top;\n",
       "    }\n",
       "\n",
       "    .dataframe thead tr th {\n",
       "        text-align: left;\n",
       "    }\n",
       "</style>\n",
       "<table border=\"1\" class=\"dataframe\">\n",
       "  <thead>\n",
       "    <tr>\n",
       "      <th></th>\n",
       "      <th></th>\n",
       "      <th colspan=\"4\" halign=\"left\">predicted</th>\n",
       "    </tr>\n",
       "    <tr>\n",
       "      <th></th>\n",
       "      <th></th>\n",
       "      <th>depression</th>\n",
       "      <th>unpopularopinion</th>\n",
       "      <th>lonely</th>\n",
       "      <th>MachineLearning</th>\n",
       "    </tr>\n",
       "  </thead>\n",
       "  <tbody>\n",
       "    <tr>\n",
       "      <th rowspan=\"4\" valign=\"top\">actual</th>\n",
       "      <th>depression</th>\n",
       "      <td>18</td>\n",
       "      <td>25</td>\n",
       "      <td>11</td>\n",
       "      <td>194</td>\n",
       "    </tr>\n",
       "    <tr>\n",
       "      <th>unpopularopinion</th>\n",
       "      <td>20</td>\n",
       "      <td>29</td>\n",
       "      <td>11</td>\n",
       "      <td>221</td>\n",
       "    </tr>\n",
       "    <tr>\n",
       "      <th>lonely</th>\n",
       "      <td>21</td>\n",
       "      <td>23</td>\n",
       "      <td>4</td>\n",
       "      <td>183</td>\n",
       "    </tr>\n",
       "    <tr>\n",
       "      <th>MachineLearning</th>\n",
       "      <td>24</td>\n",
       "      <td>18</td>\n",
       "      <td>8</td>\n",
       "      <td>177</td>\n",
       "    </tr>\n",
       "  </tbody>\n",
       "</table>\n",
       "</div>"
      ],
      "text/plain": [
       "                         predicted                                        \n",
       "                        depression unpopularopinion lonely MachineLearning\n",
       "actual depression               18               25     11             194\n",
       "       unpopularopinion         20               29     11             221\n",
       "       lonely                   21               23      4             183\n",
       "       MachineLearning          24               18      8             177"
      ]
     },
     "execution_count": 74,
     "metadata": {},
     "output_type": "execute_result"
    }
   ],
   "source": [
    "# print a confusion matrix and a classification report\n",
    "print(classification_report(labels, prediction))\n",
    "\n",
    "pd.DataFrame(\n",
    "    confusion_matrix(labels, prediction),\n",
    "    index = [['actual', 'actual','actual', 'actual'], ['depression', 'unpopularopinion', 'lonely', 'MachineLearning']],\n",
    "    columns = [['predicted', 'predicted','predicted', 'predicted'], ['depression', 'unpopularopinion', 'lonely', 'MachineLearning']])"
   ]
  },
  {
   "cell_type": "code",
   "execution_count": null,
   "id": "14b18221",
   "metadata": {},
   "outputs": [],
   "source": []
  }
 ],
 "metadata": {
  "kernelspec": {
   "display_name": "Python 3",
   "language": "python",
   "name": "python3"
  },
  "language_info": {
   "codemirror_mode": {
    "name": "ipython",
    "version": 3
   },
   "file_extension": ".py",
   "mimetype": "text/x-python",
   "name": "python",
   "nbconvert_exporter": "python",
   "pygments_lexer": "ipython3",
   "version": "3.9.4"
  }
 },
 "nbformat": 4,
 "nbformat_minor": 5
}
