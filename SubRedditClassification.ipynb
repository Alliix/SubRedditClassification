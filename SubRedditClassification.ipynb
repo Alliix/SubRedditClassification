{
 "cells": [
  {
   "cell_type": "markdown",
   "id": "0ba2efbb",
   "metadata": {},
   "source": [
    "###  1. Imports"
   ]
  },
  {
   "cell_type": "code",
   "execution_count": 85,
   "id": "6ab7b568",
   "metadata": {},
   "outputs": [
    {
     "name": "stdout",
     "output_type": "stream",
     "text": [
      "{'am', 'only', 'them', 'at', 'mightn', \"shan't\", 'themselves', 'its', 'this', 'was', 'other', 'these', 'yourselves', 'here', 'being', 'again', 'those', 'needn', 'm', \"she's\", 'are', 'once', 'more', 'because', \"you'd\", 'own', 'while', 'down', 'as', 're', 'above', 'ours', 'you', 'himself', 'against', 'our', 'by', 'hers', 'what', 'during', 'him', 'whom', 'very', 'wouldn', 'over', 's', 'yours', 'into', 'yourself', 'it', 'from', 'we', 'who', 'does', \"aren't\", 'up', 'hasn', 'won', 'any', \"couldn't\", \"you've\", 'don', 'their', 'than', 'will', 'doing', 'which', 'me', 'my', \"doesn't\", 'didn', 't', 'were', 'out', 'until', 'off', 'couldn', 'she', \"that'll\", 'that', 'there', 'the', 'but', \"isn't\", 'some', 'having', \"haven't\", 'd', 'o', 'herself', 'about', 'between', 'then', \"you'll\", 'be', 'no', 'i', 'an', 'all', 'your', 'nor', 'under', \"mustn't\", 'weren', 'll', 'for', \"you're\", \"should've\", 'ma', 'same', 'and', 'before', 'how', \"it's\", 'ourselves', 'been', 'most', 'theirs', \"won't\", 'her', 'can', 've', 'wasn', 'isn', 'did', 'had', \"wasn't\", 'aren', 'they', \"didn't\", 'shouldn', \"weren't\", 'with', \"hadn't\", 'both', 'is', 'a', 'below', 'when', 'so', 'after', \"don't\", 'hadn', 'on', 'his', 'through', \"hasn't\", 'have', \"shouldn't\", 'why', 'has', 'of', 'y', 'in', 'or', 'few', 'such', 'ain', 'do', 'further', 'should', 'shan', 'he', 'not', 'if', 'just', 'now', 'each', 'mustn', 'myself', 'too', 'doesn', 'where', 'to', 'itself', \"mightn't\", \"wouldn't\", \"needn't\", 'haven'}\n"
     ]
    },
    {
     "name": "stderr",
     "output_type": "stream",
     "text": [
      "[nltk_data] Downloading package stopwords to\n",
      "[nltk_data]     C:\\Users\\aligo\\AppData\\Roaming\\nltk_data...\n",
      "[nltk_data]   Package stopwords is already up-to-date!\n",
      "[nltk_data] Downloading package punkt to\n",
      "[nltk_data]     C:\\Users\\aligo\\AppData\\Roaming\\nltk_data...\n",
      "[nltk_data]   Package punkt is already up-to-date!\n"
     ]
    }
   ],
   "source": [
    "import os\n",
    "import sys\n",
    "import nltk\n",
    "import sklearn\n",
    "import pandas as pd\n",
    "import numpy as np\n",
    "import praw\n",
    "from dotenv import load_dotenv\n",
    "\n",
    "load_dotenv()\n",
    "\n",
    "from nltk.corpus import stopwords\n",
    "nltk.download('stopwords')\n",
    "nltk.download('punkt')\n",
    "ps = nltk.PorterStemmer()\n",
    "from nltk.tokenize import word_tokenize\n",
    "\n",
    "import re\n",
    "\n",
    "stop_words = set(stopwords.words('english'))\n",
    "\n",
    "print(stop_words)"
   ]
  },
  {
   "cell_type": "markdown",
   "id": "7852d54d",
   "metadata": {},
   "source": [
    "### 2. Define functions to get subreddit posts data from Reddit and write it to files"
   ]
  },
  {
   "cell_type": "code",
   "execution_count": 2,
   "id": "d9c75d2d",
   "metadata": {},
   "outputs": [],
   "source": [
    "user_agent = \"Scraper 1.0 by /u/Alliix\"\n",
    "reddit = praw.Reddit(\n",
    "  client_id=os.environ['CLIENT_ID'],\n",
    "  client_secret=os.environ['CLIENT_SECRET'],\n",
    "  user_agent=user_agent\n",
    ")"
   ]
  },
  {
   "cell_type": "code",
   "execution_count": 101,
   "id": "925b2346",
   "metadata": {},
   "outputs": [],
   "source": [
    "def cleanPostsData(postsFromCsv):\n",
    "#     clean posts data\n",
    "    postsProcessed = []\n",
    "\n",
    "#     RegEx\n",
    "    zeroSpaceWidth = re.compile(r'&#x200B')\n",
    "    urls = re.compile(r'^http\\://[a-zA-Z0-9\\-\\.]+\\.[a-zA-Z]{2,3}(/\\S*)?$', re.IGNORECASE)\n",
    "    numbers = re.compile(r'\\d+(\\.\\d+)?')\n",
    "    punctuation = re.compile(r'[^\\w\\d\\s]')\n",
    "    whitespaces = re.compile(r'\\s+')\n",
    "    leadTrailWhitespace = re.compile(r'^\\s+|\\s+?$')\n",
    "\n",
    "    for d in postsFromCsv.Post:\n",
    "        if(type(d)==str):\n",
    "            x = d\n",
    "            # Replace zero width space with ' '\n",
    "            x = zeroSpaceWidth.sub(' ',x)\n",
    "            # Replace URLs with 'url'\n",
    "            x = urls.sub('url',x)\n",
    "            # Replace numbers with 'nmbr'\n",
    "            x = numbers.sub('nmbr',x)\n",
    "            # Remove punctuation\n",
    "            x = punctuation.sub(' ',x)\n",
    "            # Replace whitespace between terms with ' '\n",
    "            x = whitespaces.sub(' ',x)\n",
    "            # Remove leading and trailing whitespace\n",
    "            x = leadTrailWhitespace.sub(' ',x)\n",
    "\n",
    "            text_tokens = word_tokenize(x)\n",
    "            # Remove word stems using a Porter stemmer\n",
    "            tokens_without_ws = [ps.stem(word) for word in text_tokens]\n",
    "            x = (\" \").join(tokens_without_ws)\n",
    "            \n",
    "            # remove stop words from posts\n",
    "            text_tokens = word_tokenize(x)\n",
    "            tokens_without_sw = [word for word in text_tokens if not word in stop_words]\n",
    "            x = (\" \").join(tokens_without_sw)\n",
    "            postsProcessed.append(x)\n",
    "        else: \n",
    "            postsProcessed.append(d)\n",
    "            \n",
    "    return postsProcessed\n"
   ]
  },
  {
   "cell_type": "code",
   "execution_count": 102,
   "id": "927c5a69",
   "metadata": {},
   "outputs": [],
   "source": [
    "def getAndCleanPostsData(subreddit, postOutputFile, processedPostOutputFile):\n",
    "#     get\n",
    "    posts = set()\n",
    "    for submission in reddit.subreddit(subreddit).new(limit=None):\n",
    "        posts.add(submission)\n",
    "    postsLength = len(posts)\n",
    "    \n",
    "#     write posts to file\n",
    "    data = []\n",
    "    for post in posts:\n",
    "        data.append({'Author': post.author, 'Subreddit': post.subreddit, 'Date': post.created_utc, 'Title': post.title, 'Post': post.selftext})    \n",
    "    postsData = pd.DataFrame(data, columns=['Author', 'Subreddit', 'Date', 'Title', 'Post'])\n",
    "    postsData.to_csv(postOutputFile, index=False)\n",
    "    \n",
    "    postsFromCsv = pd.read_csv(postOutputFile)\n",
    "    postsProcessed = cleanPostsData(postsFromCsv)\n",
    "    \n",
    "#     write processed posts data to file\n",
    "    processedData = []\n",
    "    for i in range(0, postsLength):\n",
    "        processedData.append({'Author': postsFromCsv.Author[i], 'Subreddit': postsFromCsv.Subreddit[i], 'Date': postsFromCsv.Date[i], 'Title': postsFromCsv.Title[i], 'Post': postsProcessed[i]})\n",
    "\n",
    "    postsData = pd.DataFrame(processedData, columns=['Author', 'Subreddit', 'Date', 'Title', 'Post'])\n",
    "    postsData.to_csv(processedPostOutputFile, index=False)\n",
    "    \n",
    "    return postsLength"
   ]
  },
  {
   "cell_type": "markdown",
   "id": "0bead5cb",
   "metadata": {},
   "source": [
    "### 3. Run the functions to get data from subreddits"
   ]
  },
  {
   "cell_type": "code",
   "execution_count": 103,
   "id": "5132adf8",
   "metadata": {},
   "outputs": [
    {
     "name": "stdout",
     "output_type": "stream",
     "text": [
      "1000\n"
     ]
    }
   ],
   "source": [
    "# r/depression\n",
    "depressedPostsLength = getAndCleanPostsData('depression', 'depressed_posts.csv', 'depressed_posts_processed.csv')\n",
    "print(depressedPostsLength)"
   ]
  },
  {
   "cell_type": "code",
   "execution_count": 107,
   "id": "099245ee",
   "metadata": {},
   "outputs": [
    {
     "name": "stdout",
     "output_type": "stream",
     "text": [
      "989\n"
     ]
    }
   ],
   "source": [
    "# r/unpopularopinion\n",
    "unpopularopinionPostsLength = getAndCleanPostsData('unpopularopinion', 'unpopularopinion_posts.csv', 'unpopularopinion_posts_processed.csv')\n",
    "print(unpopularopinionPostsLength)"
   ]
  },
  {
   "cell_type": "code",
   "execution_count": 108,
   "id": "3298b14a",
   "metadata": {},
   "outputs": [
    {
     "name": "stdout",
     "output_type": "stream",
     "text": [
      "977\n"
     ]
    }
   ],
   "source": [
    "# r/lonely\n",
    "lonelyPostsLength = getAndCleanPostsData('lonely', 'lonely_posts.csv', 'lonely_posts_processed.csv')\n",
    "print(lonelyPostsLength)"
   ]
  },
  {
   "cell_type": "code",
   "execution_count": 109,
   "id": "84675eaf",
   "metadata": {},
   "outputs": [
    {
     "name": "stdout",
     "output_type": "stream",
     "text": [
      "979\n"
     ]
    }
   ],
   "source": [
    "# r/MachineLearning\n",
    "machinelearningPostsLength = getAndCleanPostsData('machinelearning', 'machinelearning_posts.csv', 'machinelearning_posts_processed.csv')\n",
    "print(machinelearningPostsLength)"
   ]
  },
  {
   "cell_type": "markdown",
   "id": "df6d0166",
   "metadata": {},
   "source": [
    "### 4. Generating Features function\n",
    "Features will be the most common words in posts."
   ]
  },
  {
   "cell_type": "code",
   "execution_count": 110,
   "id": "83c5cdc7",
   "metadata": {},
   "outputs": [],
   "source": [
    "def getWordFrequency(processedPostOutputFile):\n",
    "    posts = pd.read_csv(processedPostOutputFile)\n",
    "\n",
    "    allPostsConcat = ''\n",
    "    for post in posts.Post:\n",
    "        if(type(post)==str):\n",
    "            allPostsConcat+=post\n",
    "\n",
    "    # create bag-of-words\n",
    "    all_words = []\n",
    "\n",
    "    words = word_tokenize(allPostsConcat)\n",
    "    for word in words:\n",
    "        all_words.append(word)\n",
    "\n",
    "    all_words = nltk.FreqDist(all_words)\n",
    "    \n",
    "    return all_words"
   ]
  },
  {
   "cell_type": "markdown",
   "id": "946d0996",
   "metadata": {},
   "source": [
    "### 5. Generate Word Frequency for Subreddits"
   ]
  },
  {
   "cell_type": "code",
   "execution_count": 111,
   "id": "30d1503e",
   "metadata": {},
   "outputs": [
    {
     "name": "stdout",
     "output_type": "stream",
     "text": [
      "Number of words: 6316\n",
      "Most common words: [('feel', 1522), ('wa', 1427), ('thi', 1309), ('like', 1274), ('nmbr', 949), ('want', 923), ('get', 881), ('know', 819), ('becaus', 783), ('life', 736), ('depress', 679), ('even', 658), ('time', 642), ('go', 590), ('year', 524)]\n"
     ]
    }
   ],
   "source": [
    "# r/depression\n",
    "depressionFreqWords = getWordFrequency('depressed_posts_processed.csv')\n",
    "\n",
    "# print the total number of words and the 15 most common words\n",
    "print('Number of words: {}'.format(len(depressionFreqWords)))\n",
    "print('Most common words: {}'.format(depressionFreqWords.most_common(15)))"
   ]
  },
  {
   "cell_type": "code",
   "execution_count": 112,
   "id": "9bc340fd",
   "metadata": {},
   "outputs": [
    {
     "name": "stdout",
     "output_type": "stream",
     "text": [
      "Number of words: 8299\n",
      "Most common words: [('peopl', 924), ('like', 898), ('thi', 787), ('nmbr', 729), ('get', 580), ('becaus', 486), ('make', 441), ('wa', 429), ('think', 404), ('one', 390), ('want', 353), ('time', 346), ('say', 345), ('thing', 342), ('even', 329)]\n"
     ]
    }
   ],
   "source": [
    "# r/unpopularopinion\n",
    "unpopularopinionFreqWords = getWordFrequency('unpopularopinion_posts_processed.csv')\n",
    "\n",
    "# print the total number of words and the 15 most common words\n",
    "print('Number of words: {}'.format(len(unpopularopinionFreqWords)))\n",
    "print('Most common words: {}'.format(unpopularopinionFreqWords.most_common(15)))"
   ]
  },
  {
   "cell_type": "code",
   "execution_count": 113,
   "id": "da3604f9",
   "metadata": {},
   "outputs": [
    {
     "name": "stdout",
     "output_type": "stream",
     "text": [
      "Number of words: 5659\n",
      "Most common words: [('feel', 1129), ('like', 1096), ('wa', 1054), ('thi', 1003), ('friend', 999), ('nmbr', 809), ('want', 787), ('peopl', 757), ('get', 647), ('talk', 597), ('one', 589), ('know', 583), ('time', 577), ('go', 564), ('life', 546)]\n"
     ]
    }
   ],
   "source": [
    "# r/lonely\n",
    "lonelyFreqWords = getWordFrequency('lonely_posts_processed.csv')\n",
    "\n",
    "# print the total number of words and the 15 most common words\n",
    "print('Number of words: {}'.format(len(lonelyFreqWords)))\n",
    "print('Most common words: {}'.format(lonelyFreqWords.most_common(15)))"
   ]
  },
  {
   "cell_type": "code",
   "execution_count": 114,
   "id": "aa5896bd",
   "metadata": {},
   "outputs": [
    {
     "name": "stdout",
     "output_type": "stream",
     "text": [
      "Number of words: 9335\n",
      "Most common words: [('nmbr', 4434), ('http', 2534), ('com', 1582), ('thi', 1138), ('model', 983), ('use', 913), ('learn', 741), ('data', 604), ('train', 518), ('reddit', 509), ('week', 485), ('paper', 464), ('www', 447), ('github', 434), ('org', 423)]\n"
     ]
    }
   ],
   "source": [
    "# r/machinelearning\n",
    "machinelearningFreqWords = getWordFrequency('machinelearning_posts_processed.csv')\n",
    "\n",
    "# print the total number of words and the 15 most common words\n",
    "print('Number of words: {}'.format(len(machinelearningFreqWords)))\n",
    "print('Most common words: {}'.format(machinelearningFreqWords.most_common(15)))"
   ]
  },
  {
   "cell_type": "markdown",
   "id": "ce315e17",
   "metadata": {},
   "source": [
    "### 6. Generate features for all posts\n",
    "We will tokenize each word and will use the 2000 most common words as features."
   ]
  },
  {
   "cell_type": "code",
   "execution_count": 115,
   "id": "67f78e2c",
   "metadata": {},
   "outputs": [],
   "source": [
    "# Save all posts to one file\n",
    "\n",
    "depressedData = pd.read_csv('depressed_posts_processed.csv')\n",
    "unpopularopinionData = pd.read_csv('unpopularopinion_posts_processed.csv')\n",
    "lonelyData = pd.read_csv('lonely_posts_processed.csv')\n",
    "machinelearningData = pd.read_csv('machinelearning_posts_processed.csv')\n",
    "\n",
    "allPosts = depressedData.append(unpopularopinionData).append(lonelyData).append(machinelearningData)\n",
    "\n",
    "allPosts.to_csv('all_posts_processed.csv', index=False)"
   ]
  },
  {
   "cell_type": "code",
   "execution_count": 116,
   "id": "10a94f87",
   "metadata": {},
   "outputs": [
    {
     "name": "stdout",
     "output_type": "stream",
     "text": [
      "depression          1000\n",
      "unpopularopinion     989\n",
      "MachineLearning      979\n",
      "lonely               977\n",
      "Name: Subreddit, dtype: int64\n"
     ]
    }
   ],
   "source": [
    "# check subreddit distribution\n",
    "\n",
    "subreddits = allPosts.Subreddit\n",
    "print(subreddits.value_counts())"
   ]
  },
  {
   "cell_type": "code",
   "execution_count": 117,
   "id": "4a9182d0",
   "metadata": {},
   "outputs": [
    {
     "name": "stdout",
     "output_type": "stream",
     "text": [
      "Number of words: 18667\n",
      "Most common words: [('nmbr', 6921), ('thi', 4237), ('like', 3675), ('wa', 3178), ('feel', 2992), ('http', 2593), ('peopl', 2323), ('get', 2292), ('want', 2249), ('becaus', 1909), ('time', 1852), ('know', 1845), ('one', 1728), ('make', 1721), ('even', 1638), ('com', 1625), ('go', 1564), ('friend', 1564), ('use', 1502), ('would', 1494), ('life', 1488), ('think', 1451), ('thing', 1340), ('realli', 1298), ('year', 1244), ('tri', 1224), ('ha', 1164), ('day', 1159), ('work', 1138), ('talk', 1073), ('ani', 1072), ('onli', 1040), ('model', 998), ('much', 991), ('say', 962), ('someon', 962), ('never', 951), ('way', 923), ('see', 890), ('good', 886), ('learn', 886), ('need', 881), ('depress', 845), ('whi', 827), ('also', 825), ('help', 823), ('someth', 804), ('week', 801), ('person', 793), ('look', 783), ('love', 782), ('start', 780), ('live', 774), ('could', 760), ('still', 734), ('take', 731), ('alway', 718), ('anyon', 696), ('better', 689), ('veri', 649), ('find', 647), ('got', 643), ('thought', 633), ('back', 626), ('data', 620), ('anyth', 616), ('reddit', 614), ('point', 613), ('mani', 611), ('bad', 594), ('lot', 587), ('end', 574), ('train', 564), ('care', 555), ('sinc', 551), ('everi', 544), ('fuck', 544), ('come', 540), ('tell', 537), ('well', 537), ('everyth', 533), ('everyon', 532), ('alon', 521), ('new', 520), ('first', 517), ('post', 516), ('noth', 515), ('long', 515), ('problem', 513), ('school', 512), ('happi', 495), ('paper', 484), ('right', 480), ('www', 476), ('hate', 475), ('keep', 474), ('seem', 470), ('hi', 470), ('around', 466), ('ask', 463)]\n"
     ]
    }
   ],
   "source": [
    "all_words_combined = getWordFrequency('all_posts_processed.csv')\n",
    "\n",
    "# print the total number of words and the 100 most common words\n",
    "print('Number of words: {}'.format(len(all_words_combined)))\n",
    "print('Most common words: {}'.format(all_words_combined.most_common(100)))"
   ]
  },
  {
   "cell_type": "markdown",
   "id": "1b208fba",
   "metadata": {},
   "source": [
    "### 7. FindFeatures fuction\n",
    "function will determine which of the 1500 word features are contained in the post"
   ]
  },
  {
   "cell_type": "code",
   "execution_count": 118,
   "id": "e016fa40",
   "metadata": {},
   "outputs": [],
   "source": [
    "# we will use the 1500 most common words as features\n",
    "\n",
    "word_features = list(all_words_combined.keys())[:1500]"
   ]
  },
  {
   "cell_type": "code",
   "execution_count": 119,
   "id": "f321cbc0",
   "metadata": {},
   "outputs": [],
   "source": [
    "def find_features(post):\n",
    "    words = word_tokenize(post)\n",
    "    features = {}\n",
    "    for word in word_features:\n",
    "        features[word] = (word in words)\n",
    "    return features"
   ]
  },
  {
   "cell_type": "code",
   "execution_count": 120,
   "id": "ac5f835f",
   "metadata": {},
   "outputs": [
    {
     "name": "stdout",
     "output_type": "stream",
     "text": [
      "like\n",
      "go\n",
      "back\n",
      "keep\n",
      "life\n",
      "top\n",
      "world\n",
      "friday\n",
      "night\n",
      "everyth\n",
      "wa\n",
      "feel\n",
      "low\n",
      "put\n",
      "act\n",
      "whenev\n",
      "peopl\n",
      "let\n",
      "get\n",
      "walk\n",
      "care\n",
      "ask\n",
      "would\n",
      "come\n",
      "home\n",
      "drink\n",
      "stop\n",
      "becaus\n",
      "make\n",
      "parti\n",
      "hour\n",
      "small\n",
      "alon\n",
      "thought\n",
      "start\n",
      "felt\n"
     ]
    }
   ],
   "source": [
    "# example\n",
    "posts = pd.read_csv('all_posts_processed.csv')\n",
    "\n",
    "features = find_features(posts.Post[1])\n",
    "for key, value in features.items():\n",
    "    if value == True:\n",
    "        print(key)"
   ]
  },
  {
   "cell_type": "markdown",
   "id": "13afe9df",
   "metadata": {},
   "source": [
    "### 6. Save training, testing data"
   ]
  },
  {
   "cell_type": "code",
   "execution_count": 144,
   "id": "69f8571d",
   "metadata": {},
   "outputs": [],
   "source": [
    "Y = []\n",
    "postsArr = []\n",
    "i = 0 \n",
    "for post in posts.Post:\n",
    "    if(type(post)==str):\n",
    "        postsArr.append(post)\n",
    "        Y.append(posts.Subreddit[i])\n",
    "    i+=1\n",
    "    \n",
    "# Now find features for all posts\n",
    "posts_all = list(zip(postsArr, Y))\n",
    "\n",
    "# define a seed for reproducibility\n",
    "seed = 1\n",
    "np.random.seed = seed\n",
    "np.random.shuffle(posts_all)\n",
    "\n",
    "# call find_features function for each post\n",
    "featuresets = [(find_features(text), label) for (text, label) in posts_all]"
   ]
  },
  {
   "cell_type": "code",
   "execution_count": 145,
   "id": "d0ea4a34",
   "metadata": {},
   "outputs": [
    {
     "name": "stdout",
     "output_type": "stream",
     "text": [
      "3945\n",
      "2853\n",
      "952\n"
     ]
    }
   ],
   "source": [
    "# we can split the featuresets into training and testing datasets using sklearn\n",
    "from sklearn import model_selection\n",
    "\n",
    "# split the data into training and testing datasets\n",
    "training, testing = model_selection.train_test_split(featuresets, test_size = 0.25, random_state=seed)\n",
    "\n",
    "print(len(posts))\n",
    "print(len(training))\n",
    "print(len(testing))"
   ]
  },
  {
   "cell_type": "markdown",
   "id": "4d059661",
   "metadata": {},
   "source": [
    "### 4. Scikit-Learn Classifiers with NLTK\n",
    "Now that we have our dataset, we can start building algorithms! Let's start with a simple linear support vector classifier, then expand to other algorithms. We'll need to import each algorithm we plan on using from sklearn. We also need to import some performance metrics, such as accuracy_score and classification_report."
   ]
  },
  {
   "cell_type": "code",
   "execution_count": 146,
   "id": "bbac4b50",
   "metadata": {},
   "outputs": [
    {
     "name": "stdout",
     "output_type": "stream",
     "text": [
      "SVC Accuracy: 74.78991596638656\n"
     ]
    }
   ],
   "source": [
    "# We can use sklearn algorithms in NLTK\n",
    "from nltk.classify.scikitlearn import SklearnClassifier\n",
    "from sklearn.svm import SVC\n",
    "\n",
    "model = SklearnClassifier(SVC(kernel = 'linear'))\n",
    "\n",
    "# train the model on the training data\n",
    "model.train(training)\n",
    "\n",
    "# and test on the testing dataset!\n",
    "accuracy = nltk.classify.accuracy(model, testing)*100\n",
    "print(\"SVC Accuracy: {}\".format(accuracy))"
   ]
  },
  {
   "cell_type": "code",
   "execution_count": 147,
   "id": "6f266215",
   "metadata": {
    "scrolled": true
   },
   "outputs": [
    {
     "name": "stdout",
     "output_type": "stream",
     "text": [
      "K Nearest Neighbors Accuracy: 41.28151260504202\n",
      "Decision Tree Accuracy: 62.81512605042017\n",
      "Random Forest Accuracy: 77.83613445378151\n"
     ]
    },
    {
     "name": "stderr",
     "output_type": "stream",
     "text": [
      "c:\\users\\aligo\\appdata\\local\\programs\\python\\python39\\lib\\site-packages\\sklearn\\linear_model\\_logistic.py:763: ConvergenceWarning: lbfgs failed to converge (status=1):\n",
      "STOP: TOTAL NO. of ITERATIONS REACHED LIMIT.\n",
      "\n",
      "Increase the number of iterations (max_iter) or scale the data as shown in:\n",
      "    https://scikit-learn.org/stable/modules/preprocessing.html\n",
      "Please also refer to the documentation for alternative solver options:\n",
      "    https://scikit-learn.org/stable/modules/linear_model.html#logistic-regression\n",
      "  n_iter_i = _check_optimize_result(\n"
     ]
    },
    {
     "name": "stdout",
     "output_type": "stream",
     "text": [
      "Logistic Regression Accuracy: 79.30672268907563\n",
      "SGD Classifier Accuracy: 76.47058823529412\n",
      "Naive Bayes Accuracy: 82.56302521008404\n",
      "SVM Linear Accuracy: 74.78991596638656\n"
     ]
    }
   ],
   "source": [
    "from sklearn.neighbors import KNeighborsClassifier\n",
    "from sklearn.tree import DecisionTreeClassifier\n",
    "from sklearn.ensemble import RandomForestClassifier\n",
    "from sklearn.linear_model import LogisticRegression, SGDClassifier\n",
    "from sklearn.naive_bayes import MultinomialNB\n",
    "from sklearn.svm import SVC\n",
    "from sklearn.metrics import classification_report, accuracy_score, confusion_matrix\n",
    "\n",
    "# Define models to train\n",
    "names = [\"K Nearest Neighbors\", \"Decision Tree\", \"Random Forest\", \"Logistic Regression\", \"SGD Classifier\",\n",
    "         \"Naive Bayes\", \"SVM Linear\"]\n",
    "\n",
    "classifiers = [\n",
    "    KNeighborsClassifier(),\n",
    "    DecisionTreeClassifier(),\n",
    "    RandomForestClassifier(),\n",
    "    LogisticRegression(),\n",
    "    SGDClassifier(max_iter = 100),\n",
    "    MultinomialNB(),\n",
    "    SVC(kernel = 'linear')\n",
    "]\n",
    "\n",
    "models = zip(names, classifiers)\n",
    "\n",
    "for name, model in models:\n",
    "    nltk_model = SklearnClassifier(model)\n",
    "    nltk_model.train(training)\n",
    "    accuracy = nltk.classify.accuracy(nltk_model, testing)*100\n",
    "    print(\"{} Accuracy: {}\".format(name, accuracy))"
   ]
  },
  {
   "cell_type": "code",
   "execution_count": 148,
   "id": "dccb80a9",
   "metadata": {},
   "outputs": [
    {
     "name": "stdout",
     "output_type": "stream",
     "text": [
      "Voting Classifier: Accuracy: 74.78991596638656\n"
     ]
    }
   ],
   "source": [
    "# Ensemble methods - Voting classifier\n",
    "from sklearn.ensemble import VotingClassifier\n",
    "\n",
    "names = [\"K Nearest Neighbors\", \"Decision Tree\", \"Random Forest\", \"Logistic Regression\", \"SGD Classifier\",\n",
    "         \"Naive Bayes\", \"SVM Linear\"]\n",
    "\n",
    "classifiers = [\n",
    "    KNeighborsClassifier(),\n",
    "    DecisionTreeClassifier(),\n",
    "    RandomForestClassifier(),\n",
    "    LogisticRegression(),\n",
    "    SGDClassifier(max_iter = 100),\n",
    "    MultinomialNB(),\n",
    "    SVC(kernel = 'linear')\n",
    "]\n",
    "\n",
    "models = list(zip(names, classifiers))\n",
    "\n",
    "nltk_ensemble = SklearnClassifier(VotingClassifier(estimators = models, voting = 'hard', n_jobs = -1))\n",
    "nltk_ensemble.train(training)\n",
    "accuracy = nltk.classify.accuracy(nltk_model, testing)*100\n",
    "print(\"Voting Classifier: Accuracy: {}\".format(accuracy))"
   ]
  },
  {
   "cell_type": "code",
   "execution_count": 149,
   "id": "ea70d764",
   "metadata": {},
   "outputs": [],
   "source": [
    "# make class label prediction for testing set\n",
    "txt_features, labels = zip(*testing)\n",
    "\n",
    "prediction = nltk_ensemble.classify_many(txt_features)"
   ]
  },
  {
   "cell_type": "code",
   "execution_count": 150,
   "id": "08977b33",
   "metadata": {
    "scrolled": true
   },
   "outputs": [
    {
     "name": "stdout",
     "output_type": "stream",
     "text": [
      "                  precision    recall  f1-score   support\n",
      "\n",
      " MachineLearning       0.92      0.96      0.94       213\n",
      "      depression       0.69      0.69      0.69       231\n",
      "          lonely       0.71      0.77      0.74       248\n",
      "unpopularopinion       0.90      0.80      0.84       260\n",
      "\n",
      "        accuracy                           0.80       952\n",
      "       macro avg       0.80      0.80      0.80       952\n",
      "    weighted avg       0.80      0.80      0.80       952\n",
      "\n"
     ]
    },
    {
     "data": {
      "text/html": [
       "<div>\n",
       "<style scoped>\n",
       "    .dataframe tbody tr th:only-of-type {\n",
       "        vertical-align: middle;\n",
       "    }\n",
       "\n",
       "    .dataframe tbody tr th {\n",
       "        vertical-align: top;\n",
       "    }\n",
       "\n",
       "    .dataframe thead tr th {\n",
       "        text-align: left;\n",
       "    }\n",
       "</style>\n",
       "<table border=\"1\" class=\"dataframe\">\n",
       "  <thead>\n",
       "    <tr>\n",
       "      <th></th>\n",
       "      <th></th>\n",
       "      <th colspan=\"4\" halign=\"left\">predicted</th>\n",
       "    </tr>\n",
       "    <tr>\n",
       "      <th></th>\n",
       "      <th></th>\n",
       "      <th>depression</th>\n",
       "      <th>unpopularopinion</th>\n",
       "      <th>lonely</th>\n",
       "      <th>MachineLearning</th>\n",
       "    </tr>\n",
       "  </thead>\n",
       "  <tbody>\n",
       "    <tr>\n",
       "      <th rowspan=\"4\" valign=\"top\">actual</th>\n",
       "      <th>depression</th>\n",
       "      <td>204</td>\n",
       "      <td>3</td>\n",
       "      <td>5</td>\n",
       "      <td>1</td>\n",
       "    </tr>\n",
       "    <tr>\n",
       "      <th>unpopularopinion</th>\n",
       "      <td>5</td>\n",
       "      <td>159</td>\n",
       "      <td>53</td>\n",
       "      <td>14</td>\n",
       "    </tr>\n",
       "    <tr>\n",
       "      <th>lonely</th>\n",
       "      <td>5</td>\n",
       "      <td>44</td>\n",
       "      <td>190</td>\n",
       "      <td>9</td>\n",
       "    </tr>\n",
       "    <tr>\n",
       "      <th>MachineLearning</th>\n",
       "      <td>8</td>\n",
       "      <td>24</td>\n",
       "      <td>21</td>\n",
       "      <td>207</td>\n",
       "    </tr>\n",
       "  </tbody>\n",
       "</table>\n",
       "</div>"
      ],
      "text/plain": [
       "                         predicted                                        \n",
       "                        depression unpopularopinion lonely MachineLearning\n",
       "actual depression              204                3      5               1\n",
       "       unpopularopinion          5              159     53              14\n",
       "       lonely                    5               44    190               9\n",
       "       MachineLearning           8               24     21             207"
      ]
     },
     "execution_count": 150,
     "metadata": {},
     "output_type": "execute_result"
    }
   ],
   "source": [
    "# print a confusion matrix and a classification report\n",
    "print(classification_report(labels, prediction))\n",
    "\n",
    "pd.DataFrame(\n",
    "    confusion_matrix(labels, prediction),\n",
    "    index = [['actual', 'actual','actual', 'actual'], ['depression', 'unpopularopinion', 'lonely', 'MachineLearning']],\n",
    "    columns = [['predicted', 'predicted','predicted', 'predicted'], ['depression', 'unpopularopinion', 'lonely', 'MachineLearning']])"
   ]
  },
  {
   "cell_type": "code",
   "execution_count": null,
   "id": "25fa5c79",
   "metadata": {},
   "outputs": [],
   "source": []
  }
 ],
 "metadata": {
  "kernelspec": {
   "display_name": "Python 3",
   "language": "python",
   "name": "python3"
  },
  "language_info": {
   "codemirror_mode": {
    "name": "ipython",
    "version": 3
   },
   "file_extension": ".py",
   "mimetype": "text/x-python",
   "name": "python",
   "nbconvert_exporter": "python",
   "pygments_lexer": "ipython3",
   "version": "3.9.4"
  }
 },
 "nbformat": 4,
 "nbformat_minor": 5
}
