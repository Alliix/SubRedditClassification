{
 "cells": [
  {
   "cell_type": "markdown",
   "id": "0ba2efbb",
   "metadata": {},
   "source": [
    "###  Imports"
   ]
  },
  {
   "cell_type": "code",
   "execution_count": 1,
   "id": "6ab7b568",
   "metadata": {},
   "outputs": [],
   "source": [
    "import pickle\n",
    "import pandas as pd\n",
    "import re\n",
    "import nltk\n",
    "from nltk.corpus import stopwords\n",
    "import numpy as np"
   ]
  },
  {
   "cell_type": "markdown",
   "id": "7852d54d",
   "metadata": {},
   "source": [
    "### Get data from Reddit"
   ]
  },
  {
   "cell_type": "code",
   "execution_count": 3,
   "id": "5132adf8",
   "metadata": {},
   "outputs": [
    {
     "data": {
      "text/html": [
       "<div>\n",
       "<style scoped>\n",
       "    .dataframe tbody tr th:only-of-type {\n",
       "        vertical-align: middle;\n",
       "    }\n",
       "\n",
       "    .dataframe tbody tr th {\n",
       "        vertical-align: top;\n",
       "    }\n",
       "\n",
       "    .dataframe thead th {\n",
       "        text-align: right;\n",
       "    }\n",
       "</style>\n",
       "<table border=\"1\" class=\"dataframe\">\n",
       "  <thead>\n",
       "    <tr style=\"text-align: right;\">\n",
       "      <th></th>\n",
       "      <th>Author</th>\n",
       "      <th>Subreddit</th>\n",
       "      <th>Date</th>\n",
       "      <th>Title</th>\n",
       "      <th>Post</th>\n",
       "    </tr>\n",
       "  </thead>\n",
       "  <tbody>\n",
       "    <tr>\n",
       "      <th>0</th>\n",
       "      <td>username123456111111</td>\n",
       "      <td>depression</td>\n",
       "      <td>1.620596e+09</td>\n",
       "      <td>i just want to time travel back and fix my mis...</td>\n",
       "      <td>(english is my second language so sorry if i m...</td>\n",
       "    </tr>\n",
       "    <tr>\n",
       "      <th>1</th>\n",
       "      <td>iSlurpees</td>\n",
       "      <td>depression</td>\n",
       "      <td>1.620602e+09</td>\n",
       "      <td>Is this depression</td>\n",
       "      <td>I felt on top of the world Friday night, every...</td>\n",
       "    </tr>\n",
       "    <tr>\n",
       "      <th>2</th>\n",
       "      <td>Awkward-Cat98</td>\n",
       "      <td>depression</td>\n",
       "      <td>1.620643e+09</td>\n",
       "      <td>White hair due to stress and depression</td>\n",
       "      <td>Hi everyone, \\nI really want to hear if anyone...</td>\n",
       "    </tr>\n",
       "    <tr>\n",
       "      <th>3</th>\n",
       "      <td>kitkatpaddywat</td>\n",
       "      <td>depression</td>\n",
       "      <td>1.620593e+09</td>\n",
       "      <td>Everything is “getting back to normal”</td>\n",
       "      <td>And it’s making me super depressed. I have not...</td>\n",
       "    </tr>\n",
       "    <tr>\n",
       "      <th>4</th>\n",
       "      <td>sugarpopp</td>\n",
       "      <td>depression</td>\n",
       "      <td>1.620508e+09</td>\n",
       "      <td>Am I happy or am I delusional in my bubble?</td>\n",
       "      <td>I am 25F, gonna turn 26 on 15th May. have been...</td>\n",
       "    </tr>\n",
       "  </tbody>\n",
       "</table>\n",
       "</div>"
      ],
      "text/plain": [
       "                 Author   Subreddit          Date  \\\n",
       "0  username123456111111  depression  1.620596e+09   \n",
       "1             iSlurpees  depression  1.620602e+09   \n",
       "2         Awkward-Cat98  depression  1.620643e+09   \n",
       "3        kitkatpaddywat  depression  1.620593e+09   \n",
       "4             sugarpopp  depression  1.620508e+09   \n",
       "\n",
       "                                               Title  \\\n",
       "0  i just want to time travel back and fix my mis...   \n",
       "1                                 Is this depression   \n",
       "2            White hair due to stress and depression   \n",
       "3             Everything is “getting back to normal”   \n",
       "4        Am I happy or am I delusional in my bubble?   \n",
       "\n",
       "                                                Post  \n",
       "0  (english is my second language so sorry if i m...  \n",
       "1  I felt on top of the world Friday night, every...  \n",
       "2  Hi everyone, \\nI really want to hear if anyone...  \n",
       "3  And it’s making me super depressed. I have not...  \n",
       "4  I am 25F, gonna turn 26 on 15th May. have been...  "
      ]
     },
     "execution_count": 3,
     "metadata": {},
     "output_type": "execute_result"
    }
   ],
   "source": [
    "allPosts = pd.read_csv('./../Data/all_posts.csv')\n",
    "allPosts.head()"
   ]
  },
  {
   "cell_type": "code",
   "execution_count": 4,
   "id": "099245ee",
   "metadata": {},
   "outputs": [
    {
     "data": {
      "text/plain": [
       "'I felt on top of the world Friday night, everything was going for me.\\nNow I just feel so low and like I’m putting on an act whenever I’m with people.\\nI let myself get walked all over and don’t care.\\nI keep asking myself who would care if I didn’t come home.\\nI drink and don’t stop because it makes me the life of the party for a few hours.\\nMakes me not feel small for a while. \\nBut then I go back to being alone and the thoughts start coming back.'"
      ]
     },
     "execution_count": 4,
     "metadata": {},
     "output_type": "execute_result"
    }
   ],
   "source": [
    "allPosts.loc[1]['Post']"
   ]
  },
  {
   "cell_type": "markdown",
   "id": "e4682e71",
   "metadata": {},
   "source": [
    "### Clean data"
   ]
  },
  {
   "cell_type": "code",
   "execution_count": 5,
   "id": "b5d13457",
   "metadata": {},
   "outputs": [
    {
     "name": "stdout",
     "output_type": "stream",
     "text": [
      "3938\n"
     ]
    }
   ],
   "source": [
    "print(len(allPosts))"
   ]
  },
  {
   "cell_type": "code",
   "execution_count": 6,
   "id": "9dbb4118",
   "metadata": {},
   "outputs": [
    {
     "name": "stdout",
     "output_type": "stream",
     "text": [
      "3809\n"
     ]
    }
   ],
   "source": [
    "allPosts = allPosts[allPosts['Post'].notna()]\n",
    "print(len(allPosts))"
   ]
  },
  {
   "cell_type": "code",
   "execution_count": 7,
   "id": "923e00f8",
   "metadata": {},
   "outputs": [
    {
     "name": "stdout",
     "output_type": "stream",
     "text": [
      "3809\n"
     ]
    }
   ],
   "source": [
    "allPosts['Post'] = allPosts['Post'].astype(str)\n",
    "print(len(allPosts))"
   ]
  },
  {
   "cell_type": "code",
   "execution_count": 8,
   "id": "59302bd0",
   "metadata": {},
   "outputs": [
    {
     "data": {
      "text/plain": [
       "'i felt on top of the world friday night everything was going for me now i just feel so low and like im putting on an act whenever im with people i let myself get walked all over and dont care i keep asking myself who would care if i didnt come home i drink and dont stop because it makes me the life of the party for a few hours makes me not feel small for a while but then i go back to being alone and the thoughts start coming back'"
      ]
     },
     "execution_count": 8,
     "metadata": {},
     "output_type": "execute_result"
    }
   ],
   "source": [
    "urls = '(https?:\\/\\/(?:www\\.|(?!www))[a-zA-Z0-9][a-zA-Z0-9-]+[a-zA-Z0-9]\\.[^\\s]{2,}|www\\.[a-zA-Z0-9][a-zA-Z0-9-]+[a-zA-Z0-9]\\.[^\\s]{2,}|https?:\\/\\/(?:www\\.|(?!www))[a-zA-Z0-9]+\\.[^\\s]{2,}|www\\.[a-zA-Z0-9]+\\.[^\\s]{2,})'\n",
    "numbers = '\\d+(\\.\\d+)?'\n",
    "posessivePronouns = '’s'\n",
    "apostrophe='’'\n",
    "someSigns ='\\\\n|\\\\r'\n",
    "punctuation = \"[^\\w\\s]\" \n",
    "whitespaces = '\\s+'\n",
    "leadTrailWhitespace = '^\\s+|\\s+?$'\n",
    "\n",
    "allPosts['Post_Parsed'] = allPosts['Post'].str.lower()\n",
    "allPosts['Post_Parsed'] = allPosts['Post_Parsed'].str.replace(urls,'url',regex=True)\n",
    "allPosts['Post_Parsed'] = allPosts['Post_Parsed'].str.replace(numbers,'nmbr',regex=True)\n",
    "allPosts['Post_Parsed'] = allPosts['Post_Parsed'].str.replace(posessivePronouns,'',regex=True)\n",
    "allPosts['Post_Parsed'] = allPosts['Post_Parsed'].str.replace(apostrophe,'',regex=True)\n",
    "allPosts['Post_Parsed'] = allPosts['Post_Parsed'].str.replace(someSigns,'',regex=True)\n",
    "allPosts['Post_Parsed'] = allPosts['Post_Parsed'].str.replace(punctuation,' ',regex=True)\n",
    "allPosts['Post_Parsed'] = allPosts['Post_Parsed'].str.replace(whitespaces,' ',regex=True)\n",
    "allPosts['Post_Parsed'] = allPosts['Post_Parsed'].str.replace(leadTrailWhitespace,'',regex=True)\n",
    "\n",
    "allPosts.loc[1]['Post_Parsed']"
   ]
  },
  {
   "cell_type": "code",
   "execution_count": 9,
   "id": "1c45094c",
   "metadata": {},
   "outputs": [
    {
     "data": {
      "text/html": [
       "<div>\n",
       "<style scoped>\n",
       "    .dataframe tbody tr th:only-of-type {\n",
       "        vertical-align: middle;\n",
       "    }\n",
       "\n",
       "    .dataframe tbody tr th {\n",
       "        vertical-align: top;\n",
       "    }\n",
       "\n",
       "    .dataframe thead th {\n",
       "        text-align: right;\n",
       "    }\n",
       "</style>\n",
       "<table border=\"1\" class=\"dataframe\">\n",
       "  <thead>\n",
       "    <tr style=\"text-align: right;\">\n",
       "      <th></th>\n",
       "      <th>Author</th>\n",
       "      <th>Subreddit</th>\n",
       "      <th>Date</th>\n",
       "      <th>Title</th>\n",
       "      <th>Post</th>\n",
       "      <th>Post_Parsed</th>\n",
       "    </tr>\n",
       "  </thead>\n",
       "  <tbody>\n",
       "    <tr>\n",
       "      <th>0</th>\n",
       "      <td>username123456111111</td>\n",
       "      <td>depression</td>\n",
       "      <td>1.620596e+09</td>\n",
       "      <td>i just want to time travel back and fix my mis...</td>\n",
       "      <td>(english is my second language so sorry if i m...</td>\n",
       "      <td>english is my second language so sorry if i ma...</td>\n",
       "    </tr>\n",
       "    <tr>\n",
       "      <th>1</th>\n",
       "      <td>iSlurpees</td>\n",
       "      <td>depression</td>\n",
       "      <td>1.620602e+09</td>\n",
       "      <td>Is this depression</td>\n",
       "      <td>I felt on top of the world Friday night, every...</td>\n",
       "      <td>i felt on top of the world friday night everyt...</td>\n",
       "    </tr>\n",
       "    <tr>\n",
       "      <th>2</th>\n",
       "      <td>Awkward-Cat98</td>\n",
       "      <td>depression</td>\n",
       "      <td>1.620643e+09</td>\n",
       "      <td>White hair due to stress and depression</td>\n",
       "      <td>Hi everyone, \\nI really want to hear if anyone...</td>\n",
       "      <td>hi everyone i really want to hear if anyone ha...</td>\n",
       "    </tr>\n",
       "    <tr>\n",
       "      <th>3</th>\n",
       "      <td>kitkatpaddywat</td>\n",
       "      <td>depression</td>\n",
       "      <td>1.620593e+09</td>\n",
       "      <td>Everything is “getting back to normal”</td>\n",
       "      <td>And it’s making me super depressed. I have not...</td>\n",
       "      <td>and it making me super depressed i have nothin...</td>\n",
       "    </tr>\n",
       "    <tr>\n",
       "      <th>4</th>\n",
       "      <td>sugarpopp</td>\n",
       "      <td>depression</td>\n",
       "      <td>1.620508e+09</td>\n",
       "      <td>Am I happy or am I delusional in my bubble?</td>\n",
       "      <td>I am 25F, gonna turn 26 on 15th May. have been...</td>\n",
       "      <td>i am nmbrf gonna turn nmbr on nmbrth may have ...</td>\n",
       "    </tr>\n",
       "  </tbody>\n",
       "</table>\n",
       "</div>"
      ],
      "text/plain": [
       "                 Author   Subreddit          Date  \\\n",
       "0  username123456111111  depression  1.620596e+09   \n",
       "1             iSlurpees  depression  1.620602e+09   \n",
       "2         Awkward-Cat98  depression  1.620643e+09   \n",
       "3        kitkatpaddywat  depression  1.620593e+09   \n",
       "4             sugarpopp  depression  1.620508e+09   \n",
       "\n",
       "                                               Title  \\\n",
       "0  i just want to time travel back and fix my mis...   \n",
       "1                                 Is this depression   \n",
       "2            White hair due to stress and depression   \n",
       "3             Everything is “getting back to normal”   \n",
       "4        Am I happy or am I delusional in my bubble?   \n",
       "\n",
       "                                                Post  \\\n",
       "0  (english is my second language so sorry if i m...   \n",
       "1  I felt on top of the world Friday night, every...   \n",
       "2  Hi everyone, \\nI really want to hear if anyone...   \n",
       "3  And it’s making me super depressed. I have not...   \n",
       "4  I am 25F, gonna turn 26 on 15th May. have been...   \n",
       "\n",
       "                                         Post_Parsed  \n",
       "0  english is my second language so sorry if i ma...  \n",
       "1  i felt on top of the world friday night everyt...  \n",
       "2  hi everyone i really want to hear if anyone ha...  \n",
       "3  and it making me super depressed i have nothin...  \n",
       "4  i am nmbrf gonna turn nmbr on nmbrth may have ...  "
      ]
     },
     "execution_count": 9,
     "metadata": {},
     "output_type": "execute_result"
    }
   ],
   "source": [
    "allPosts.head()"
   ]
  },
  {
   "cell_type": "code",
   "execution_count": 10,
   "id": "1aa86711",
   "metadata": {},
   "outputs": [
    {
     "name": "stderr",
     "output_type": "stream",
     "text": [
      "[nltk_data] Downloading package punkt to\n",
      "[nltk_data]     C:\\Users\\aligo\\AppData\\Roaming\\nltk_data...\n",
      "[nltk_data]   Package punkt is already up-to-date!\n",
      "[nltk_data] Downloading package wordnet to\n",
      "[nltk_data]     C:\\Users\\aligo\\AppData\\Roaming\\nltk_data...\n",
      "[nltk_data]   Package wordnet is already up-to-date!\n"
     ]
    },
    {
     "data": {
      "text/plain": [
       "True"
      ]
     },
     "execution_count": 10,
     "metadata": {},
     "output_type": "execute_result"
    }
   ],
   "source": [
    "# Downloading punkt and wordnet from NLTK\n",
    "nltk.download('punkt')\n",
    "nltk.download('wordnet')"
   ]
  },
  {
   "cell_type": "code",
   "execution_count": 12,
   "id": "e58f9933",
   "metadata": {},
   "outputs": [],
   "source": [
    "# stop words\n",
    "with open('./../stop_words_no_punct.data', 'rb') as filehandle:\n",
    "    # read the data as binary data stream\n",
    "    stop_words_no_punct = pickle.load(filehandle)"
   ]
  },
  {
   "cell_type": "code",
   "execution_count": 13,
   "id": "00783b34",
   "metadata": {},
   "outputs": [],
   "source": [
    "from nltk.tokenize import word_tokenize\n",
    "post_without_stop_words = []\n",
    "\n",
    "for post in allPosts.Post_Parsed:\n",
    "    text_tokens = word_tokenize(post)\n",
    "    tokens_without_stop_words = [word for word in text_tokens if not word in stop_words_no_punct]\n",
    "    post_without_stop_words.append((\" \").join(tokens_without_stop_words))\n",
    "\n",
    "allPosts['Post_Parsed'] = post_without_stop_words"
   ]
  },
  {
   "cell_type": "code",
   "execution_count": 14,
   "id": "6b7fffb0",
   "metadata": {},
   "outputs": [
    {
     "data": {
      "text/plain": [
       "'felt top world friday night everything going feel low like im putting act whenever im people let get walked care keep asking would care come home drink stop makes life party hours makes feel small go back alone thoughts start coming back'"
      ]
     },
     "execution_count": 14,
     "metadata": {},
     "output_type": "execute_result"
    }
   ],
   "source": [
    "allPosts.loc[1]['Post_Parsed']"
   ]
  },
  {
   "cell_type": "markdown",
   "id": "df6d0166",
   "metadata": {},
   "source": [
    "### Label Encoding"
   ]
  },
  {
   "cell_type": "code",
   "execution_count": 15,
   "id": "83c5cdc7",
   "metadata": {},
   "outputs": [],
   "source": [
    "category_codes = {\n",
    "    'depression': 0,\n",
    "    'unpopularopinion': 1,\n",
    "    'lonely': 2,\n",
    "    'MachineLearning': 3\n",
    "}"
   ]
  },
  {
   "cell_type": "code",
   "execution_count": 16,
   "id": "9bc340fd",
   "metadata": {},
   "outputs": [
    {
     "data": {
      "text/html": [
       "<div>\n",
       "<style scoped>\n",
       "    .dataframe tbody tr th:only-of-type {\n",
       "        vertical-align: middle;\n",
       "    }\n",
       "\n",
       "    .dataframe tbody tr th {\n",
       "        vertical-align: top;\n",
       "    }\n",
       "\n",
       "    .dataframe thead th {\n",
       "        text-align: right;\n",
       "    }\n",
       "</style>\n",
       "<table border=\"1\" class=\"dataframe\">\n",
       "  <thead>\n",
       "    <tr style=\"text-align: right;\">\n",
       "      <th></th>\n",
       "      <th>Author</th>\n",
       "      <th>Subreddit</th>\n",
       "      <th>Date</th>\n",
       "      <th>Title</th>\n",
       "      <th>Post</th>\n",
       "      <th>Post_Parsed</th>\n",
       "      <th>Subreddit_Code</th>\n",
       "    </tr>\n",
       "  </thead>\n",
       "  <tbody>\n",
       "    <tr>\n",
       "      <th>0</th>\n",
       "      <td>username123456111111</td>\n",
       "      <td>depression</td>\n",
       "      <td>1.620596e+09</td>\n",
       "      <td>i just want to time travel back and fix my mis...</td>\n",
       "      <td>(english is my second language so sorry if i m...</td>\n",
       "      <td>english second language sorry made mistake wat...</td>\n",
       "      <td>0</td>\n",
       "    </tr>\n",
       "    <tr>\n",
       "      <th>1</th>\n",
       "      <td>iSlurpees</td>\n",
       "      <td>depression</td>\n",
       "      <td>1.620602e+09</td>\n",
       "      <td>Is this depression</td>\n",
       "      <td>I felt on top of the world Friday night, every...</td>\n",
       "      <td>felt top world friday night everything going f...</td>\n",
       "      <td>0</td>\n",
       "    </tr>\n",
       "    <tr>\n",
       "      <th>2</th>\n",
       "      <td>Awkward-Cat98</td>\n",
       "      <td>depression</td>\n",
       "      <td>1.620643e+09</td>\n",
       "      <td>White hair due to stress and depression</td>\n",
       "      <td>Hi everyone, \\nI really want to hear if anyone...</td>\n",
       "      <td>hi everyone really want hear anyone experience...</td>\n",
       "      <td>0</td>\n",
       "    </tr>\n",
       "    <tr>\n",
       "      <th>3</th>\n",
       "      <td>kitkatpaddywat</td>\n",
       "      <td>depression</td>\n",
       "      <td>1.620593e+09</td>\n",
       "      <td>Everything is “getting back to normal”</td>\n",
       "      <td>And it’s making me super depressed. I have not...</td>\n",
       "      <td>making super depressed nothing go back job gon...</td>\n",
       "      <td>0</td>\n",
       "    </tr>\n",
       "    <tr>\n",
       "      <th>4</th>\n",
       "      <td>sugarpopp</td>\n",
       "      <td>depression</td>\n",
       "      <td>1.620508e+09</td>\n",
       "      <td>Am I happy or am I delusional in my bubble?</td>\n",
       "      <td>I am 25F, gonna turn 26 on 15th May. have been...</td>\n",
       "      <td>nmbrf gon na turn nmbr nmbrth may suffering se...</td>\n",
       "      <td>0</td>\n",
       "    </tr>\n",
       "  </tbody>\n",
       "</table>\n",
       "</div>"
      ],
      "text/plain": [
       "                 Author   Subreddit          Date  \\\n",
       "0  username123456111111  depression  1.620596e+09   \n",
       "1             iSlurpees  depression  1.620602e+09   \n",
       "2         Awkward-Cat98  depression  1.620643e+09   \n",
       "3        kitkatpaddywat  depression  1.620593e+09   \n",
       "4             sugarpopp  depression  1.620508e+09   \n",
       "\n",
       "                                               Title  \\\n",
       "0  i just want to time travel back and fix my mis...   \n",
       "1                                 Is this depression   \n",
       "2            White hair due to stress and depression   \n",
       "3             Everything is “getting back to normal”   \n",
       "4        Am I happy or am I delusional in my bubble?   \n",
       "\n",
       "                                                Post  \\\n",
       "0  (english is my second language so sorry if i m...   \n",
       "1  I felt on top of the world Friday night, every...   \n",
       "2  Hi everyone, \\nI really want to hear if anyone...   \n",
       "3  And it’s making me super depressed. I have not...   \n",
       "4  I am 25F, gonna turn 26 on 15th May. have been...   \n",
       "\n",
       "                                         Post_Parsed  Subreddit_Code  \n",
       "0  english second language sorry made mistake wat...               0  \n",
       "1  felt top world friday night everything going f...               0  \n",
       "2  hi everyone really want hear anyone experience...               0  \n",
       "3  making super depressed nothing go back job gon...               0  \n",
       "4  nmbrf gon na turn nmbr nmbrth may suffering se...               0  "
      ]
     },
     "execution_count": 16,
     "metadata": {},
     "output_type": "execute_result"
    }
   ],
   "source": [
    "# Category mapping\n",
    "allPosts['Subreddit_Code'] = allPosts['Subreddit']\n",
    "allPosts = allPosts.replace({'Subreddit_Code':category_codes})\n",
    "\n",
    "allPosts.head()"
   ]
  },
  {
   "cell_type": "code",
   "execution_count": 17,
   "id": "fa425eef",
   "metadata": {},
   "outputs": [],
   "source": [
    "allPosts.to_csv('all_posts_processed.csv', index=False)"
   ]
  },
  {
   "cell_type": "markdown",
   "id": "6e0de6bd",
   "metadata": {},
   "source": [
    "### Generating Features"
   ]
  },
  {
   "cell_type": "code",
   "execution_count": 18,
   "id": "58a7e99e",
   "metadata": {},
   "outputs": [],
   "source": [
    "from nltk.tokenize import word_tokenize\n",
    "\n",
    "def getWordFrequency(processedPostOutputFile):\n",
    "    posts = pd.read_csv(processedPostOutputFile)\n",
    "\n",
    "    allPostsConcat = ''\n",
    "    for post in posts.Post_Parsed:\n",
    "        if(type(post)==str):\n",
    "            allPostsConcat+=post\n",
    "\n",
    "    # create bag-of-words\n",
    "    all_words = []\n",
    "\n",
    "    words = word_tokenize(allPostsConcat)\n",
    "    for word in words:\n",
    "        all_words.append(word)\n",
    "\n",
    "    all_words = nltk.FreqDist(all_words)\n",
    "    \n",
    "    return all_words"
   ]
  },
  {
   "cell_type": "code",
   "execution_count": 19,
   "id": "7978ca60",
   "metadata": {},
   "outputs": [
    {
     "name": "stdout",
     "output_type": "stream",
     "text": [
      "Number of words: 24815\n",
      "Most common words: [('nmbr', 4743), ('like', 3458), ('people', 2288), ('feel', 2090), ('im', 1820), ('know', 1692), ('get', 1688), ('want', 1671), ('even', 1639), ('one', 1619), ('time', 1560), ('url', 1492), ('would', 1491), ('life', 1486), ('really', 1297), ('think', 1179), ('friends', 1134), ('much', 993), ('make', 992), ('someone', 961), ('never', 955), ('good', 881), ('things', 871), ('go', 852), ('way', 849), ('day', 832), ('also', 827), ('something', 804), ('years', 765), ('could', 750), ('still', 737), ('always', 727), ('see', 724), ('work', 719), ('going', 718), ('better', 684), ('anyone', 664), ('talk', 658), ('need', 655), ('got', 641), ('anything', 617), ('person', 616), ('many', 610), ('back', 606), ('help', 605), ('say', 588), ('data', 588), ('bad', 583), ('ive', 582), ('model', 575), ('learning', 568), ('love', 562), ('every', 554), ('since', 548), ('find', 547), ('lot', 546), ('well', 545), ('everything', 531), ('everyone', 531), ('alone', 521), ('point', 518), ('first', 513), ('new', 512), ('long', 504), ('feeling', 502), ('nothing', 501), ('use', 497), ('cant', 486), ('school', 481), ('thing', 479), ('year', 476), ('around', 469), ('trying', 465), ('take', 462), ('right', 461), ('used', 457), ('hard', 452), ('makes', 447), ('depression', 446), ('made', 441), ('getting', 437), ('try', 436), ('ever', 430), ('friend', 427), ('family', 422), ('happy', 410), ('anymore', 410), ('care', 407), ('best', 405), ('maybe', 399), ('last', 399), ('hate', 393), ('lonely', 391), ('without', 391), ('end', 388), ('tell', 388), ('using', 383), ('job', 382), ('live', 375), ('thought', 369)]\n"
     ]
    }
   ],
   "source": [
    "freqWords = getWordFrequency('all_posts_processed.csv')\n",
    "\n",
    "# print the total number of words and the 100 most common words\n",
    "print('Number of words: {}'.format(len(freqWords)))\n",
    "print('Most common words: {}'.format(freqWords.most_common(100)))\n",
    "\n",
    "word_features = list(freqWords.keys())[:1500]\n",
    "\n",
    "# save word_features to file\n",
    "filename = './word_features.data'\n",
    "pickle.dump(word_features, open(filename, 'wb'))"
   ]
  },
  {
   "cell_type": "code",
   "execution_count": 20,
   "id": "2b5943b4",
   "metadata": {},
   "outputs": [
    {
     "name": "stderr",
     "output_type": "stream",
     "text": [
      "[nltk_data] Downloading package webtext to\n",
      "[nltk_data]     C:\\Users\\aligo\\AppData\\Roaming\\nltk_data...\n",
      "[nltk_data]   Package webtext is already up-to-date!\n"
     ]
    },
    {
     "data": {
      "image/png": "[encoded data removed]",
      "text/plain": [
       "<Figure size 432x288 with 1 Axes>"
      ]
     },
     "metadata": {
      "needs_background": "light"
     },
     "output_type": "display_data"
    }
   ],
   "source": [
    "from wordcloud import WordCloud\n",
    "import matplotlib.pyplot as plt\n",
    " \n",
    "nltk.download('webtext')\n",
    "data_analysis = freqWords\n",
    " \n",
    "filter_words = dict([(m, n) for m, n in data_analysis.items() if len(m) > 2])\n",
    " \n",
    "wcloud = WordCloud().generate_from_frequencies(filter_words)\n",
    " \n",
    "# Plotting the wordcloud\n",
    "plt.imshow(wcloud, interpolation=\"bilinear\")\n",
    " \n",
    "plt.axis(\"off\")\n",
    "(-0.5, 399.5, 199.5, -0.5)\n",
    "plt.show()"
   ]
  },
  {
   "cell_type": "code",
   "execution_count": 21,
   "id": "f5820ca8",
   "metadata": {},
   "outputs": [
    {
     "data": {
      "image/png": "[encoded data removed]",
      "text/plain": [
       "<Figure size 432x288 with 1 Axes>"
      ]
     },
     "metadata": {
      "needs_background": "light"
     },
     "output_type": "display_data"
    }
   ],
   "source": [
    "import matplotlib.pyplot as plt\n",
    "freqWords.plot(30,cumulative=False)\n",
    "plt.show()"
   ]
  },
  {
   "cell_type": "markdown",
   "id": "01c615b2",
   "metadata": {},
   "source": [
    "### Train"
   ]
  },
  {
   "cell_type": "code",
   "execution_count": 22,
   "id": "2646fbad",
   "metadata": {},
   "outputs": [],
   "source": [
    "# function to find features in every post\n",
    "def find_features(post):\n",
    "    words = word_tokenize(post)\n",
    "    features = {}\n",
    "    for word in word_features:\n",
    "        features[word] = (word in words)\n",
    "    return features"
   ]
  },
  {
   "cell_type": "code",
   "execution_count": 23,
   "id": "9cc64430",
   "metadata": {},
   "outputs": [
    {
     "name": "stdout",
     "output_type": "stream",
     "text": [
      "3809\n",
      "2856\n",
      "953\n"
     ]
    }
   ],
   "source": [
    "posts_all = list(zip(allPosts.loc[:,\"Post_Parsed\"].values,allPosts.loc[:,\"Subreddit_Code\"].values))\n",
    "\n",
    "featuresets = [(find_features(text), label) for (text, label) in posts_all]\n",
    "\n",
    "from sklearn import model_selection\n",
    "\n",
    "# split the data into training and testing datasets\n",
    "seed = 1\n",
    "training, testing = model_selection.train_test_split(featuresets, test_size = 0.25, random_state=seed)\n",
    "\n",
    "print(len(allPosts))\n",
    "print(len(training))\n",
    "print(len(testing))\n",
    "\n",
    "# save testing and training data to file\n",
    "filename = './Models/testing_subreddits.data'\n",
    "pickle.dump(testing, open(filename, 'wb'))\n",
    "\n",
    "filename = './Models/training_subreddits.data'\n",
    "pickle.dump(training, open(filename, 'wb'))"
   ]
  },
  {
   "cell_type": "markdown",
   "id": "9336bcad",
   "metadata": {},
   "source": [
    "### Subreddits Classifier"
   ]
  },
  {
   "cell_type": "code",
   "execution_count": 24,
   "id": "71e29900",
   "metadata": {},
   "outputs": [
    {
     "name": "stdout",
     "output_type": "stream",
     "text": [
      "K Nearest Neighbors Accuracy: 36.09653725078699\n",
      "Decision Tree Accuracy: 60.125918153200416\n",
      "Random Forest Accuracy: 74.81636935991605\n",
      "Logistic Regression Accuracy: 75.34102833158447\n",
      "SGD Classifier Accuracy: 73.2423924449108\n",
      "Naive Bayes Accuracy: 81.53200419727177\n",
      "SVM Linear Accuracy: 71.66841552990556\n"
     ]
    }
   ],
   "source": [
    "from nltk.classify.scikitlearn import SklearnClassifier\n",
    "from sklearn.neighbors import KNeighborsClassifier\n",
    "from sklearn.tree import DecisionTreeClassifier\n",
    "from sklearn.ensemble import RandomForestClassifier\n",
    "from sklearn.linear_model import LogisticRegression, SGDClassifier\n",
    "from sklearn.naive_bayes import MultinomialNB\n",
    "from sklearn.svm import SVC\n",
    "from sklearn.metrics import classification_report, accuracy_score, confusion_matrix\n",
    "\n",
    "# Define models to train\n",
    "names = [\"K Nearest Neighbors\", \"Decision Tree\", \"Random Forest\", \"Logistic Regression\", \"SGD Classifier\",\n",
    "         \"Naive Bayes\", \"SVM Linear\"]\n",
    "\n",
    "classifiers = [\n",
    "    KNeighborsClassifier(),\n",
    "    DecisionTreeClassifier(),\n",
    "    RandomForestClassifier(),\n",
    "    LogisticRegression(solver='lbfgs', max_iter=1000),\n",
    "    SGDClassifier(max_iter = 100),\n",
    "    MultinomialNB(),\n",
    "    SVC(kernel = 'linear')\n",
    "]\n",
    "\n",
    "models = zip(names, classifiers)\n",
    "\n",
    "for name, model in models:\n",
    "    nltk_model = SklearnClassifier(model)\n",
    "    nltk_model.train(training)\n",
    "    accuracy = nltk.classify.accuracy(nltk_model, testing)*100\n",
    "    print(\"{} Accuracy: {}\".format(name, accuracy))"
   ]
  },
  {
   "cell_type": "code",
   "execution_count": 25,
   "id": "cd611b75",
   "metadata": {},
   "outputs": [
    {
     "name": "stdout",
     "output_type": "stream",
     "text": [
      "Voting Classifier: Accuracy: 71.66841552990556\n"
     ]
    }
   ],
   "source": [
    "# Ensemble methods - Voting classifier\n",
    "from sklearn.ensemble import VotingClassifier\n",
    "\n",
    "names = [\"K Nearest Neighbors\", \"Decision Tree\", \"Random Forest\", \"Logistic Regression\", \"SGD Classifier\",\n",
    "         \"Naive Bayes\", \"SVM Linear\"]\n",
    "\n",
    "classifiers = [\n",
    "    KNeighborsClassifier(),\n",
    "    DecisionTreeClassifier(),\n",
    "    RandomForestClassifier(),\n",
    "    LogisticRegression(),\n",
    "    SGDClassifier(max_iter = 100),\n",
    "    MultinomialNB(),\n",
    "    SVC(kernel = 'linear')\n",
    "]\n",
    "\n",
    "models = list(zip(names, classifiers))\n",
    "\n",
    "nltk_ensemble = SklearnClassifier(VotingClassifier(estimators = models, voting = 'hard', n_jobs = -1))\n",
    "nltk_ensemble.train(training)\n",
    "accuracy = nltk.classify.accuracy(nltk_model, testing)*100\n",
    "print(\"Voting Classifier: Accuracy: {}\".format(accuracy))"
   ]
  },
  {
   "cell_type": "code",
   "execution_count": 26,
   "id": "4e638723",
   "metadata": {},
   "outputs": [
    {
     "name": "stdout",
     "output_type": "stream",
     "text": [
      "              precision    recall  f1-score   support\n",
      "\n",
      "           0       0.70      0.70      0.70       253\n",
      "           1       0.82      0.77      0.79       252\n",
      "           2       0.66      0.75      0.70       229\n",
      "           3       0.94      0.87      0.91       219\n",
      "\n",
      "    accuracy                           0.77       953\n",
      "   macro avg       0.78      0.77      0.78       953\n",
      "weighted avg       0.78      0.77      0.77       953\n",
      "\n"
     ]
    },
    {
     "data": {
      "text/html": [
       "<div>\n",
       "<style scoped>\n",
       "    .dataframe tbody tr th:only-of-type {\n",
       "        vertical-align: middle;\n",
       "    }\n",
       "\n",
       "    .dataframe tbody tr th {\n",
       "        vertical-align: top;\n",
       "    }\n",
       "\n",
       "    .dataframe thead tr th {\n",
       "        text-align: left;\n",
       "    }\n",
       "</style>\n",
       "<table border=\"1\" class=\"dataframe\">\n",
       "  <thead>\n",
       "    <tr>\n",
       "      <th></th>\n",
       "      <th></th>\n",
       "      <th colspan=\"4\" halign=\"left\">predicted</th>\n",
       "    </tr>\n",
       "    <tr>\n",
       "      <th></th>\n",
       "      <th></th>\n",
       "      <th>depression</th>\n",
       "      <th>unpopularopinion</th>\n",
       "      <th>lonely</th>\n",
       "      <th>MachineLearning</th>\n",
       "    </tr>\n",
       "  </thead>\n",
       "  <tbody>\n",
       "    <tr>\n",
       "      <th rowspan=\"4\" valign=\"top\">actual</th>\n",
       "      <th>depression</th>\n",
       "      <td>178</td>\n",
       "      <td>21</td>\n",
       "      <td>52</td>\n",
       "      <td>2</td>\n",
       "    </tr>\n",
       "    <tr>\n",
       "      <th>unpopularopinion</th>\n",
       "      <td>26</td>\n",
       "      <td>194</td>\n",
       "      <td>23</td>\n",
       "      <td>9</td>\n",
       "    </tr>\n",
       "    <tr>\n",
       "      <th>lonely</th>\n",
       "      <td>46</td>\n",
       "      <td>11</td>\n",
       "      <td>171</td>\n",
       "      <td>1</td>\n",
       "    </tr>\n",
       "    <tr>\n",
       "      <th>MachineLearning</th>\n",
       "      <td>3</td>\n",
       "      <td>11</td>\n",
       "      <td>14</td>\n",
       "      <td>191</td>\n",
       "    </tr>\n",
       "  </tbody>\n",
       "</table>\n",
       "</div>"
      ],
      "text/plain": [
       "                         predicted                                        \n",
       "                        depression unpopularopinion lonely MachineLearning\n",
       "actual depression              178               21     52               2\n",
       "       unpopularopinion         26              194     23               9\n",
       "       lonely                   46               11    171               1\n",
       "       MachineLearning           3               11     14             191"
      ]
     },
     "execution_count": 26,
     "metadata": {},
     "output_type": "execute_result"
    }
   ],
   "source": [
    "# make class label prediction for testing set\n",
    "txt_features, labels = zip(*testing)\n",
    "\n",
    "prediction = nltk_ensemble.classify_many(txt_features)\n",
    "\n",
    "# print a confusion matrix and a classification report\n",
    "print(classification_report(labels, prediction))\n",
    "\n",
    "pd.DataFrame(\n",
    "    confusion_matrix(labels, prediction),\n",
    "    index = [['actual', 'actual','actual', 'actual'], ['depression', 'unpopularopinion', 'lonely', 'MachineLearning']],\n",
    "    columns = [['predicted', 'predicted','predicted', 'predicted'], ['depression', 'unpopularopinion', 'lonely', 'MachineLearning']])"
   ]
  },
  {
   "cell_type": "code",
   "execution_count": 27,
   "id": "b04a16cb",
   "metadata": {},
   "outputs": [],
   "source": [
    "# save the model to disk\n",
    "filename = './Models/finalized_model_subreddits.sav'\n",
    "pickle.dump(nltk_ensemble, open(filename, 'wb'))"
   ]
  },
  {
   "cell_type": "markdown",
   "id": "01fbc1a8",
   "metadata": {},
   "source": [
    "### r/depression Classifier"
   ]
  },
  {
   "cell_type": "code",
   "execution_count": 28,
   "id": "b46e4b57",
   "metadata": {},
   "outputs": [
    {
     "data": {
      "text/html": [
       "<div>\n",
       "<style scoped>\n",
       "    .dataframe tbody tr th:only-of-type {\n",
       "        vertical-align: middle;\n",
       "    }\n",
       "\n",
       "    .dataframe tbody tr th {\n",
       "        vertical-align: top;\n",
       "    }\n",
       "\n",
       "    .dataframe thead th {\n",
       "        text-align: right;\n",
       "    }\n",
       "</style>\n",
       "<table border=\"1\" class=\"dataframe\">\n",
       "  <thead>\n",
       "    <tr style=\"text-align: right;\">\n",
       "      <th></th>\n",
       "      <th>Author</th>\n",
       "      <th>Subreddit</th>\n",
       "      <th>Date</th>\n",
       "      <th>Title</th>\n",
       "      <th>Post</th>\n",
       "      <th>Post_Parsed</th>\n",
       "      <th>Subreddit_Code</th>\n",
       "      <th>Is_Depression_Code</th>\n",
       "    </tr>\n",
       "  </thead>\n",
       "  <tbody>\n",
       "    <tr>\n",
       "      <th>0</th>\n",
       "      <td>username123456111111</td>\n",
       "      <td>depression</td>\n",
       "      <td>1.620596e+09</td>\n",
       "      <td>i just want to time travel back and fix my mis...</td>\n",
       "      <td>(english is my second language so sorry if i m...</td>\n",
       "      <td>english second language sorry made mistake wat...</td>\n",
       "      <td>0</td>\n",
       "      <td>0</td>\n",
       "    </tr>\n",
       "    <tr>\n",
       "      <th>1</th>\n",
       "      <td>iSlurpees</td>\n",
       "      <td>depression</td>\n",
       "      <td>1.620602e+09</td>\n",
       "      <td>Is this depression</td>\n",
       "      <td>I felt on top of the world Friday night, every...</td>\n",
       "      <td>felt top world friday night everything going f...</td>\n",
       "      <td>0</td>\n",
       "      <td>0</td>\n",
       "    </tr>\n",
       "    <tr>\n",
       "      <th>2</th>\n",
       "      <td>Awkward-Cat98</td>\n",
       "      <td>depression</td>\n",
       "      <td>1.620643e+09</td>\n",
       "      <td>White hair due to stress and depression</td>\n",
       "      <td>Hi everyone, \\nI really want to hear if anyone...</td>\n",
       "      <td>hi everyone really want hear anyone experience...</td>\n",
       "      <td>0</td>\n",
       "      <td>0</td>\n",
       "    </tr>\n",
       "    <tr>\n",
       "      <th>3</th>\n",
       "      <td>kitkatpaddywat</td>\n",
       "      <td>depression</td>\n",
       "      <td>1.620593e+09</td>\n",
       "      <td>Everything is “getting back to normal”</td>\n",
       "      <td>And it’s making me super depressed. I have not...</td>\n",
       "      <td>making super depressed nothing go back job gon...</td>\n",
       "      <td>0</td>\n",
       "      <td>0</td>\n",
       "    </tr>\n",
       "    <tr>\n",
       "      <th>4</th>\n",
       "      <td>sugarpopp</td>\n",
       "      <td>depression</td>\n",
       "      <td>1.620508e+09</td>\n",
       "      <td>Am I happy or am I delusional in my bubble?</td>\n",
       "      <td>I am 25F, gonna turn 26 on 15th May. have been...</td>\n",
       "      <td>nmbrf gon na turn nmbr nmbrth may suffering se...</td>\n",
       "      <td>0</td>\n",
       "      <td>0</td>\n",
       "    </tr>\n",
       "  </tbody>\n",
       "</table>\n",
       "</div>"
      ],
      "text/plain": [
       "                 Author   Subreddit          Date  \\\n",
       "0  username123456111111  depression  1.620596e+09   \n",
       "1             iSlurpees  depression  1.620602e+09   \n",
       "2         Awkward-Cat98  depression  1.620643e+09   \n",
       "3        kitkatpaddywat  depression  1.620593e+09   \n",
       "4             sugarpopp  depression  1.620508e+09   \n",
       "\n",
       "                                               Title  \\\n",
       "0  i just want to time travel back and fix my mis...   \n",
       "1                                 Is this depression   \n",
       "2            White hair due to stress and depression   \n",
       "3             Everything is “getting back to normal”   \n",
       "4        Am I happy or am I delusional in my bubble?   \n",
       "\n",
       "                                                Post  \\\n",
       "0  (english is my second language so sorry if i m...   \n",
       "1  I felt on top of the world Friday night, every...   \n",
       "2  Hi everyone, \\nI really want to hear if anyone...   \n",
       "3  And it’s making me super depressed. I have not...   \n",
       "4  I am 25F, gonna turn 26 on 15th May. have been...   \n",
       "\n",
       "                                         Post_Parsed  Subreddit_Code  \\\n",
       "0  english second language sorry made mistake wat...               0   \n",
       "1  felt top world friday night everything going f...               0   \n",
       "2  hi everyone really want hear anyone experience...               0   \n",
       "3  making super depressed nothing go back job gon...               0   \n",
       "4  nmbrf gon na turn nmbr nmbrth may suffering se...               0   \n",
       "\n",
       "   Is_Depression_Code  \n",
       "0                   0  \n",
       "1                   0  \n",
       "2                   0  \n",
       "3                   0  \n",
       "4                   0  "
      ]
     },
     "execution_count": 28,
     "metadata": {},
     "output_type": "execute_result"
    }
   ],
   "source": [
    "category_codes = {\n",
    "    'depression': 0,\n",
    "    'unpopularopinion': 1,\n",
    "    'lonely': 1,\n",
    "    'MachineLearning': 1\n",
    "}\n",
    "\n",
    "# Category mapping\n",
    "allPosts['Is_Depression_Code'] = allPosts['Subreddit']\n",
    "allPosts = allPosts.replace({'Is_Depression_Code':category_codes})\n",
    "\n",
    "allPosts.head()"
   ]
  },
  {
   "cell_type": "code",
   "execution_count": 29,
   "id": "5d1ee8d6",
   "metadata": {},
   "outputs": [],
   "source": [
    "allPosts.to_csv('all_posts_processed.csv', index=False)"
   ]
  },
  {
   "cell_type": "code",
   "execution_count": 30,
   "id": "b168d561",
   "metadata": {},
   "outputs": [
    {
     "name": "stdout",
     "output_type": "stream",
     "text": [
      "3809\n",
      "2856\n",
      "953\n"
     ]
    }
   ],
   "source": [
    "posts_all = list(zip(allPosts.loc[:,\"Post_Parsed\"].values,allPosts.loc[:,\"Is_Depression_Code\"].values))\n",
    "\n",
    "featuresets = [(find_features(text), label) for (text, label) in posts_all]\n",
    "\n",
    "from sklearn import model_selection\n",
    "\n",
    "# split the data into training and testing datasets\n",
    "seed = 1\n",
    "training, testing = model_selection.train_test_split(featuresets, test_size = 0.25, random_state=seed)\n",
    "\n",
    "print(len(allPosts))\n",
    "print(len(training))\n",
    "print(len(testing))\n",
    "\n",
    "# save testing and training data to file\n",
    "filename = './Models/testing_depression.data'\n",
    "pickle.dump(testing, open(filename, 'wb'))\n",
    "\n",
    "filename = './Models/training_depression.data'\n",
    "pickle.dump(training, open(filename, 'wb'))"
   ]
  },
  {
   "cell_type": "code",
   "execution_count": 31,
   "id": "cbf8407f",
   "metadata": {},
   "outputs": [
    {
     "name": "stdout",
     "output_type": "stream",
     "text": [
      "K Nearest Neighbors Accuracy: 74.71143756558237\n",
      "Decision Tree Accuracy: 79.22350472193075\n",
      "Random Forest Accuracy: 82.79118572927598\n",
      "Logistic Regression Accuracy: 83.2109129066107\n",
      "SGD Classifier Accuracy: 80.27282266526757\n",
      "Naive Bayes Accuracy: 84.4700944386149\n",
      "SVM Linear Accuracy: 81.63693599160545\n"
     ]
    }
   ],
   "source": [
    "from nltk.classify.scikitlearn import SklearnClassifier\n",
    "from sklearn.neighbors import KNeighborsClassifier\n",
    "from sklearn.tree import DecisionTreeClassifier\n",
    "from sklearn.ensemble import RandomForestClassifier\n",
    "from sklearn.linear_model import LogisticRegression, SGDClassifier\n",
    "from sklearn.naive_bayes import MultinomialNB\n",
    "from sklearn.svm import SVC\n",
    "from sklearn.metrics import classification_report, accuracy_score, confusion_matrix\n",
    "\n",
    "# Define models to train\n",
    "names = [\"K Nearest Neighbors\", \"Decision Tree\", \"Random Forest\", \"Logistic Regression\", \"SGD Classifier\",\n",
    "         \"Naive Bayes\", \"SVM Linear\"]\n",
    "\n",
    "classifiers = [\n",
    "    KNeighborsClassifier(),\n",
    "    DecisionTreeClassifier(),\n",
    "    RandomForestClassifier(),\n",
    "    LogisticRegression(solver='lbfgs', max_iter=1000),\n",
    "    SGDClassifier(max_iter = 100),\n",
    "    MultinomialNB(),\n",
    "    SVC(kernel = 'linear')\n",
    "]\n",
    "\n",
    "models = zip(names, classifiers)\n",
    "\n",
    "for name, model in models:\n",
    "    nltk_model = SklearnClassifier(model)\n",
    "    nltk_model.train(training)\n",
    "    accuracy = nltk.classify.accuracy(nltk_model, testing)*100\n",
    "    print(\"{} Accuracy: {}\".format(name, accuracy))"
   ]
  },
  {
   "cell_type": "code",
   "execution_count": 32,
   "id": "515d05c4",
   "metadata": {},
   "outputs": [
    {
     "name": "stdout",
     "output_type": "stream",
     "text": [
      "Voting Classifier: Accuracy: 81.63693599160545\n"
     ]
    }
   ],
   "source": [
    "# Ensemble methods - Voting classifier\n",
    "from sklearn.ensemble import VotingClassifier\n",
    "\n",
    "names = [\"K Nearest Neighbors\", \"Decision Tree\", \"Random Forest\", \"Logistic Regression\", \"SGD Classifier\",\n",
    "         \"Naive Bayes\", \"SVM Linear\"]\n",
    "\n",
    "classifiers = [\n",
    "    KNeighborsClassifier(),\n",
    "    DecisionTreeClassifier(),\n",
    "    RandomForestClassifier(),\n",
    "    LogisticRegression(),\n",
    "    SGDClassifier(max_iter = 100),\n",
    "    MultinomialNB(),\n",
    "    SVC(kernel = 'linear')\n",
    "]\n",
    "\n",
    "models = list(zip(names, classifiers))\n",
    "\n",
    "nltk_ensemble = SklearnClassifier(VotingClassifier(estimators = models, voting = 'hard', n_jobs = -1))\n",
    "nltk_ensemble.train(training)\n",
    "accuracy = nltk.classify.accuracy(nltk_model, testing)*100\n",
    "print(\"Voting Classifier: Accuracy: {}\".format(accuracy))"
   ]
  },
  {
   "cell_type": "code",
   "execution_count": 33,
   "id": "b4f0ac81",
   "metadata": {},
   "outputs": [
    {
     "name": "stdout",
     "output_type": "stream",
     "text": [
      "              precision    recall  f1-score   support\n",
      "\n",
      "           0       0.75      0.62      0.68       253\n",
      "           1       0.87      0.93      0.90       700\n",
      "\n",
      "    accuracy                           0.84       953\n",
      "   macro avg       0.81      0.77      0.79       953\n",
      "weighted avg       0.84      0.84      0.84       953\n",
      "\n"
     ]
    },
    {
     "data": {
      "text/html": [
       "<div>\n",
       "<style scoped>\n",
       "    .dataframe tbody tr th:only-of-type {\n",
       "        vertical-align: middle;\n",
       "    }\n",
       "\n",
       "    .dataframe tbody tr th {\n",
       "        vertical-align: top;\n",
       "    }\n",
       "\n",
       "    .dataframe thead tr th {\n",
       "        text-align: left;\n",
       "    }\n",
       "</style>\n",
       "<table border=\"1\" class=\"dataframe\">\n",
       "  <thead>\n",
       "    <tr>\n",
       "      <th></th>\n",
       "      <th></th>\n",
       "      <th colspan=\"2\" halign=\"left\">predicted</th>\n",
       "    </tr>\n",
       "    <tr>\n",
       "      <th></th>\n",
       "      <th></th>\n",
       "      <th>depression</th>\n",
       "      <th>not r/depression</th>\n",
       "    </tr>\n",
       "  </thead>\n",
       "  <tbody>\n",
       "    <tr>\n",
       "      <th rowspan=\"2\" valign=\"top\">actual</th>\n",
       "      <th>r/depression</th>\n",
       "      <td>157</td>\n",
       "      <td>96</td>\n",
       "    </tr>\n",
       "    <tr>\n",
       "      <th>not r/depression</th>\n",
       "      <td>52</td>\n",
       "      <td>648</td>\n",
       "    </tr>\n",
       "  </tbody>\n",
       "</table>\n",
       "</div>"
      ],
      "text/plain": [
       "                         predicted                 \n",
       "                        depression not r/depression\n",
       "actual r/depression            157               96\n",
       "       not r/depression         52              648"
      ]
     },
     "execution_count": 33,
     "metadata": {},
     "output_type": "execute_result"
    }
   ],
   "source": [
    "# make class label prediction for testing set\n",
    "txt_features, labels = zip(*testing)\n",
    "\n",
    "prediction = nltk_ensemble.classify_many(txt_features)\n",
    "\n",
    "# print a confusion matrix and a classification report\n",
    "print(classification_report(labels, prediction))\n",
    "\n",
    "pd.DataFrame(\n",
    "    confusion_matrix(labels, prediction),\n",
    "    index = [['actual', 'actual'], ['r/depression', 'not r/depression']],\n",
    "    columns = [['predicted', 'predicted'], ['depression', 'not r/depression']])"
   ]
  },
  {
   "cell_type": "code",
   "execution_count": 34,
   "id": "27d6b576",
   "metadata": {},
   "outputs": [],
   "source": [
    "# save the model to disk\n",
    "filename = './Models/finalized_model_is_depression.sav'\n",
    "pickle.dump(nltk_ensemble, open(filename, 'wb'))"
   ]
  },
  {
   "cell_type": "code",
   "execution_count": null,
   "id": "e0b1e68e",
   "metadata": {},
   "outputs": [],
   "source": []
  },
  {
   "cell_type": "code",
   "execution_count": null,
   "id": "5e8b8795",
   "metadata": {},
   "outputs": [],
   "source": []
  }
 ],
 "metadata": {
  "kernelspec": {
   "display_name": "Python 3",
   "language": "python",
   "name": "python3"
  },
  "language_info": {
   "codemirror_mode": {
    "name": "ipython",
    "version": 3
   },
   "file_extension": ".py",
   "mimetype": "text/x-python",
   "name": "python",
   "nbconvert_exporter": "python",
   "pygments_lexer": "ipython3",
   "version": "3.9.4"
  }
 },
 "nbformat": 4,
 "nbformat_minor": 5
}
